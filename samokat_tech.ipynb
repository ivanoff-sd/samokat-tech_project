{
 "cells": [
  {
   "cell_type": "markdown",
   "id": "b95cd497",
   "metadata": {},
   "source": [
    "# Мэтчинг товаров в онлайн-магазине\n",
    "\n",
    "## Описание проекта\n",
    "\n",
    "Заказчик - компания Samokat tech.\n",
    "\n",
    "Цель исследования: находить соответствия между товарами из запроса и товарами из базы на основе векторных представлений товаров.\n",
    "\n",
    "Требуется для каждого товара в запросе найти 10 ближайших товаров-соседей из базы.\n",
    "\n",
    "Используемая метрика - recall.\n",
    "\n",
    "## Описание данных\n",
    "\n",
    "Заказчиком предоставлены датасеты:\n",
    "1) База. 2.9 млн записей товаров в векторизированном виде. Каждая запись содержит ID товара и 72-мерный вектор - эмбеддинг.\n",
    "\n",
    "2) Обучающий датасет. 100 тыс. записей - содержит эмбеддинги товаров, которым требуется найти соответствие в базе, и целевой признак - ID соответствующего товара из базы.\n",
    "\n",
    "3) Тестовый датасет: содержит 100 тыс. эмбеддингов, отличных от трейна."
   ]
  },
  {
   "cell_type": "markdown",
   "id": "277adb90",
   "metadata": {},
   "source": [
    "## Импорт библиотек"
   ]
  },
  {
   "cell_type": "code",
   "execution_count": 2,
   "id": "1f74e94b",
   "metadata": {},
   "outputs": [],
   "source": [
    "import faiss\n",
    "import pandas as pd\n",
    "import numpy as np\n",
    "from sklearn.model_selection import GridSearchCV\n",
    "from lightgbm import LGBMRegressor\n",
    "from lightgbm import LGBMClassifier\n",
    "from sklearn.utils import shuffle"
   ]
  },
  {
   "cell_type": "markdown",
   "id": "5c677658",
   "metadata": {},
   "source": [
    "## Загрузка и осмотр базы и обучающей выборки"
   ]
  },
  {
   "cell_type": "code",
   "execution_count": 3,
   "id": "381bea3d",
   "metadata": {},
   "outputs": [
    {
     "name": "stdout",
     "output_type": "stream",
     "text": [
      "Wall time: 1min 7s\n"
     ]
    }
   ],
   "source": [
    "%%time\n",
    "base = pd.read_csv('base.csv')\n",
    "# загружаем базу"
   ]
  },
  {
   "cell_type": "code",
   "execution_count": 19,
   "id": "5976aec9",
   "metadata": {},
   "outputs": [
    {
     "name": "stdout",
     "output_type": "stream",
     "text": [
      "<class 'pandas.core.frame.DataFrame'>\n",
      "RangeIndex: 2918139 entries, 0 to 2918138\n",
      "Data columns (total 73 columns):\n",
      " #   Column  Dtype  \n",
      "---  ------  -----  \n",
      " 0   Id      object \n",
      " 1   0       float64\n",
      " 2   1       float64\n",
      " 3   2       float64\n",
      " 4   3       float64\n",
      " 5   4       float64\n",
      " 6   5       float64\n",
      " 7   6       float64\n",
      " 8   7       float64\n",
      " 9   8       float64\n",
      " 10  9       float64\n",
      " 11  10      float64\n",
      " 12  11      float64\n",
      " 13  12      float64\n",
      " 14  13      float64\n",
      " 15  14      float64\n",
      " 16  15      float64\n",
      " 17  16      float64\n",
      " 18  17      float64\n",
      " 19  18      float64\n",
      " 20  19      float64\n",
      " 21  20      float64\n",
      " 22  21      float64\n",
      " 23  22      float64\n",
      " 24  23      float64\n",
      " 25  24      float64\n",
      " 26  25      float64\n",
      " 27  26      float64\n",
      " 28  27      float64\n",
      " 29  28      float64\n",
      " 30  29      float64\n",
      " 31  30      float64\n",
      " 32  31      float64\n",
      " 33  32      float64\n",
      " 34  33      float64\n",
      " 35  34      float64\n",
      " 36  35      float64\n",
      " 37  36      float64\n",
      " 38  37      float64\n",
      " 39  38      float64\n",
      " 40  39      float64\n",
      " 41  40      float64\n",
      " 42  41      float64\n",
      " 43  42      float64\n",
      " 44  43      float64\n",
      " 45  44      float64\n",
      " 46  45      float64\n",
      " 47  46      float64\n",
      " 48  47      float64\n",
      " 49  48      float64\n",
      " 50  49      float64\n",
      " 51  50      float64\n",
      " 52  51      float64\n",
      " 53  52      float64\n",
      " 54  53      float64\n",
      " 55  54      float64\n",
      " 56  55      float64\n",
      " 57  56      float64\n",
      " 58  57      float64\n",
      " 59  58      float64\n",
      " 60  59      float64\n",
      " 61  60      float64\n",
      " 62  61      float64\n",
      " 63  62      float64\n",
      " 64  63      float64\n",
      " 65  64      float64\n",
      " 66  65      float64\n",
      " 67  66      float64\n",
      " 68  67      float64\n",
      " 69  68      float64\n",
      " 70  69      float64\n",
      " 71  70      float64\n",
      " 72  71      float64\n",
      "dtypes: float64(72), object(1)\n",
      "memory usage: 1.6+ GB\n"
     ]
    },
    {
     "data": {
      "text/html": [
       "<div>\n",
       "<style scoped>\n",
       "    .dataframe tbody tr th:only-of-type {\n",
       "        vertical-align: middle;\n",
       "    }\n",
       "\n",
       "    .dataframe tbody tr th {\n",
       "        vertical-align: top;\n",
       "    }\n",
       "\n",
       "    .dataframe thead th {\n",
       "        text-align: right;\n",
       "    }\n",
       "</style>\n",
       "<table border=\"1\" class=\"dataframe\">\n",
       "  <thead>\n",
       "    <tr style=\"text-align: right;\">\n",
       "      <th></th>\n",
       "      <th>Id</th>\n",
       "      <th>0</th>\n",
       "      <th>1</th>\n",
       "      <th>2</th>\n",
       "      <th>3</th>\n",
       "      <th>4</th>\n",
       "      <th>5</th>\n",
       "      <th>6</th>\n",
       "      <th>7</th>\n",
       "      <th>8</th>\n",
       "      <th>...</th>\n",
       "      <th>62</th>\n",
       "      <th>63</th>\n",
       "      <th>64</th>\n",
       "      <th>65</th>\n",
       "      <th>66</th>\n",
       "      <th>67</th>\n",
       "      <th>68</th>\n",
       "      <th>69</th>\n",
       "      <th>70</th>\n",
       "      <th>71</th>\n",
       "    </tr>\n",
       "  </thead>\n",
       "  <tbody>\n",
       "    <tr>\n",
       "      <th>0</th>\n",
       "      <td>0-base</td>\n",
       "      <td>-115.083890</td>\n",
       "      <td>11.152912</td>\n",
       "      <td>-64.426760</td>\n",
       "      <td>-118.88089</td>\n",
       "      <td>216.482440</td>\n",
       "      <td>-104.698060</td>\n",
       "      <td>-469.070588</td>\n",
       "      <td>44.348083</td>\n",
       "      <td>120.915344</td>\n",
       "      <td>...</td>\n",
       "      <td>-42.808693</td>\n",
       "      <td>38.800827</td>\n",
       "      <td>-151.76218</td>\n",
       "      <td>-74.389090</td>\n",
       "      <td>63.66634</td>\n",
       "      <td>-4.703861</td>\n",
       "      <td>92.933610</td>\n",
       "      <td>115.269190</td>\n",
       "      <td>-112.756640</td>\n",
       "      <td>-60.830353</td>\n",
       "    </tr>\n",
       "    <tr>\n",
       "      <th>1</th>\n",
       "      <td>1-base</td>\n",
       "      <td>-34.562202</td>\n",
       "      <td>13.332763</td>\n",
       "      <td>-69.787610</td>\n",
       "      <td>-166.53348</td>\n",
       "      <td>57.680607</td>\n",
       "      <td>-86.098370</td>\n",
       "      <td>-85.076666</td>\n",
       "      <td>-35.637436</td>\n",
       "      <td>119.718636</td>\n",
       "      <td>...</td>\n",
       "      <td>-117.767525</td>\n",
       "      <td>41.100000</td>\n",
       "      <td>-157.82940</td>\n",
       "      <td>-94.446806</td>\n",
       "      <td>68.20211</td>\n",
       "      <td>24.346846</td>\n",
       "      <td>179.937930</td>\n",
       "      <td>116.834000</td>\n",
       "      <td>-84.888941</td>\n",
       "      <td>-59.524610</td>\n",
       "    </tr>\n",
       "    <tr>\n",
       "      <th>2</th>\n",
       "      <td>2-base</td>\n",
       "      <td>-54.233746</td>\n",
       "      <td>6.379371</td>\n",
       "      <td>-29.210136</td>\n",
       "      <td>-133.41383</td>\n",
       "      <td>150.895830</td>\n",
       "      <td>-99.435326</td>\n",
       "      <td>52.554795</td>\n",
       "      <td>62.381706</td>\n",
       "      <td>128.951450</td>\n",
       "      <td>...</td>\n",
       "      <td>-76.397800</td>\n",
       "      <td>46.011803</td>\n",
       "      <td>-207.14442</td>\n",
       "      <td>127.325570</td>\n",
       "      <td>65.56618</td>\n",
       "      <td>66.325680</td>\n",
       "      <td>81.073490</td>\n",
       "      <td>116.594154</td>\n",
       "      <td>-1074.464888</td>\n",
       "      <td>-32.527206</td>\n",
       "    </tr>\n",
       "    <tr>\n",
       "      <th>3</th>\n",
       "      <td>3-base</td>\n",
       "      <td>-87.520130</td>\n",
       "      <td>4.037884</td>\n",
       "      <td>-87.803030</td>\n",
       "      <td>-185.06763</td>\n",
       "      <td>76.369540</td>\n",
       "      <td>-58.985165</td>\n",
       "      <td>-383.182845</td>\n",
       "      <td>-33.611237</td>\n",
       "      <td>122.031910</td>\n",
       "      <td>...</td>\n",
       "      <td>-70.647940</td>\n",
       "      <td>-6.358921</td>\n",
       "      <td>-147.20105</td>\n",
       "      <td>-37.692750</td>\n",
       "      <td>66.20289</td>\n",
       "      <td>-20.566910</td>\n",
       "      <td>137.206940</td>\n",
       "      <td>117.474100</td>\n",
       "      <td>-1074.464888</td>\n",
       "      <td>-72.915490</td>\n",
       "    </tr>\n",
       "    <tr>\n",
       "      <th>4</th>\n",
       "      <td>4-base</td>\n",
       "      <td>-72.743850</td>\n",
       "      <td>6.522049</td>\n",
       "      <td>43.671265</td>\n",
       "      <td>-140.60803</td>\n",
       "      <td>5.820023</td>\n",
       "      <td>-112.074080</td>\n",
       "      <td>-397.711282</td>\n",
       "      <td>45.182500</td>\n",
       "      <td>122.167180</td>\n",
       "      <td>...</td>\n",
       "      <td>-57.199104</td>\n",
       "      <td>56.642403</td>\n",
       "      <td>-159.35184</td>\n",
       "      <td>85.944724</td>\n",
       "      <td>66.76632</td>\n",
       "      <td>-2.505783</td>\n",
       "      <td>65.315285</td>\n",
       "      <td>135.051590</td>\n",
       "      <td>-1074.464888</td>\n",
       "      <td>0.319401</td>\n",
       "    </tr>\n",
       "  </tbody>\n",
       "</table>\n",
       "<p>5 rows × 73 columns</p>\n",
       "</div>"
      ],
      "text/plain": [
       "       Id           0          1          2          3           4  \\\n",
       "0  0-base -115.083890  11.152912 -64.426760 -118.88089  216.482440   \n",
       "1  1-base  -34.562202  13.332763 -69.787610 -166.53348   57.680607   \n",
       "2  2-base  -54.233746   6.379371 -29.210136 -133.41383  150.895830   \n",
       "3  3-base  -87.520130   4.037884 -87.803030 -185.06763   76.369540   \n",
       "4  4-base  -72.743850   6.522049  43.671265 -140.60803    5.820023   \n",
       "\n",
       "            5           6          7           8  ...          62         63  \\\n",
       "0 -104.698060 -469.070588  44.348083  120.915344  ...  -42.808693  38.800827   \n",
       "1  -86.098370  -85.076666 -35.637436  119.718636  ... -117.767525  41.100000   \n",
       "2  -99.435326   52.554795  62.381706  128.951450  ...  -76.397800  46.011803   \n",
       "3  -58.985165 -383.182845 -33.611237  122.031910  ...  -70.647940  -6.358921   \n",
       "4 -112.074080 -397.711282  45.182500  122.167180  ...  -57.199104  56.642403   \n",
       "\n",
       "          64          65        66         67          68          69  \\\n",
       "0 -151.76218  -74.389090  63.66634  -4.703861   92.933610  115.269190   \n",
       "1 -157.82940  -94.446806  68.20211  24.346846  179.937930  116.834000   \n",
       "2 -207.14442  127.325570  65.56618  66.325680   81.073490  116.594154   \n",
       "3 -147.20105  -37.692750  66.20289 -20.566910  137.206940  117.474100   \n",
       "4 -159.35184   85.944724  66.76632  -2.505783   65.315285  135.051590   \n",
       "\n",
       "            70         71  \n",
       "0  -112.756640 -60.830353  \n",
       "1   -84.888941 -59.524610  \n",
       "2 -1074.464888 -32.527206  \n",
       "3 -1074.464888 -72.915490  \n",
       "4 -1074.464888   0.319401  \n",
       "\n",
       "[5 rows x 73 columns]"
      ]
     },
     "execution_count": 19,
     "metadata": {},
     "output_type": "execute_result"
    }
   ],
   "source": [
    "base.info()\n",
    "base.head()\n",
    "# осматриваем базу"
   ]
  },
  {
   "cell_type": "code",
   "execution_count": 4,
   "id": "47bc3a87",
   "metadata": {},
   "outputs": [
    {
     "data": {
      "text/plain": [
       "0"
      ]
     },
     "execution_count": 4,
     "metadata": {},
     "output_type": "execute_result"
    }
   ],
   "source": [
    "base.isna().sum().sum()\n",
    "# проверяем базу на наличие пропусков"
   ]
  },
  {
   "cell_type": "code",
   "execution_count": 6,
   "id": "f624547f",
   "metadata": {},
   "outputs": [
    {
     "data": {
      "text/plain": [
       "0"
      ]
     },
     "execution_count": 6,
     "metadata": {},
     "output_type": "execute_result"
    }
   ],
   "source": [
    "base.duplicated().sum()\n",
    "# проверяем базу на наличие дубликатов"
   ]
  },
  {
   "cell_type": "code",
   "execution_count": 7,
   "id": "a662bb33",
   "metadata": {},
   "outputs": [],
   "source": [
    "train = pd.read_csv('train.csv')\n",
    "# загружаем трэйн"
   ]
  },
  {
   "cell_type": "code",
   "execution_count": 20,
   "id": "d843ce1d",
   "metadata": {},
   "outputs": [
    {
     "name": "stdout",
     "output_type": "stream",
     "text": [
      "<class 'pandas.core.frame.DataFrame'>\n",
      "RangeIndex: 100000 entries, 0 to 99999\n",
      "Data columns (total 74 columns):\n",
      " #   Column  Non-Null Count   Dtype  \n",
      "---  ------  --------------   -----  \n",
      " 0   Id      100000 non-null  object \n",
      " 1   0       100000 non-null  float64\n",
      " 2   1       100000 non-null  float64\n",
      " 3   2       100000 non-null  float64\n",
      " 4   3       100000 non-null  float64\n",
      " 5   4       100000 non-null  float64\n",
      " 6   5       100000 non-null  float64\n",
      " 7   6       100000 non-null  float64\n",
      " 8   7       100000 non-null  float64\n",
      " 9   8       100000 non-null  float64\n",
      " 10  9       100000 non-null  float64\n",
      " 11  10      100000 non-null  float64\n",
      " 12  11      100000 non-null  float64\n",
      " 13  12      100000 non-null  float64\n",
      " 14  13      100000 non-null  float64\n",
      " 15  14      100000 non-null  float64\n",
      " 16  15      100000 non-null  float64\n",
      " 17  16      100000 non-null  float64\n",
      " 18  17      100000 non-null  float64\n",
      " 19  18      100000 non-null  float64\n",
      " 20  19      100000 non-null  float64\n",
      " 21  20      100000 non-null  float64\n",
      " 22  21      100000 non-null  float64\n",
      " 23  22      100000 non-null  float64\n",
      " 24  23      100000 non-null  float64\n",
      " 25  24      100000 non-null  float64\n",
      " 26  25      100000 non-null  float64\n",
      " 27  26      100000 non-null  float64\n",
      " 28  27      100000 non-null  float64\n",
      " 29  28      100000 non-null  float64\n",
      " 30  29      100000 non-null  float64\n",
      " 31  30      100000 non-null  float64\n",
      " 32  31      100000 non-null  float64\n",
      " 33  32      100000 non-null  float64\n",
      " 34  33      100000 non-null  float64\n",
      " 35  34      100000 non-null  float64\n",
      " 36  35      100000 non-null  float64\n",
      " 37  36      100000 non-null  float64\n",
      " 38  37      100000 non-null  float64\n",
      " 39  38      100000 non-null  float64\n",
      " 40  39      100000 non-null  float64\n",
      " 41  40      100000 non-null  float64\n",
      " 42  41      100000 non-null  float64\n",
      " 43  42      100000 non-null  float64\n",
      " 44  43      100000 non-null  float64\n",
      " 45  44      100000 non-null  float64\n",
      " 46  45      100000 non-null  float64\n",
      " 47  46      100000 non-null  float64\n",
      " 48  47      100000 non-null  float64\n",
      " 49  48      100000 non-null  float64\n",
      " 50  49      100000 non-null  float64\n",
      " 51  50      100000 non-null  float64\n",
      " 52  51      100000 non-null  float64\n",
      " 53  52      100000 non-null  float64\n",
      " 54  53      100000 non-null  float64\n",
      " 55  54      100000 non-null  float64\n",
      " 56  55      100000 non-null  float64\n",
      " 57  56      100000 non-null  float64\n",
      " 58  57      100000 non-null  float64\n",
      " 59  58      100000 non-null  float64\n",
      " 60  59      100000 non-null  float64\n",
      " 61  60      100000 non-null  float64\n",
      " 62  61      100000 non-null  float64\n",
      " 63  62      100000 non-null  float64\n",
      " 64  63      100000 non-null  float64\n",
      " 65  64      100000 non-null  float64\n",
      " 66  65      100000 non-null  float64\n",
      " 67  66      100000 non-null  float64\n",
      " 68  67      100000 non-null  float64\n",
      " 69  68      100000 non-null  float64\n",
      " 70  69      100000 non-null  float64\n",
      " 71  70      100000 non-null  float64\n",
      " 72  71      100000 non-null  float64\n",
      " 73  Target  100000 non-null  object \n",
      "dtypes: float64(72), object(2)\n",
      "memory usage: 56.5+ MB\n"
     ]
    },
    {
     "data": {
      "text/html": [
       "<div>\n",
       "<style scoped>\n",
       "    .dataframe tbody tr th:only-of-type {\n",
       "        vertical-align: middle;\n",
       "    }\n",
       "\n",
       "    .dataframe tbody tr th {\n",
       "        vertical-align: top;\n",
       "    }\n",
       "\n",
       "    .dataframe thead th {\n",
       "        text-align: right;\n",
       "    }\n",
       "</style>\n",
       "<table border=\"1\" class=\"dataframe\">\n",
       "  <thead>\n",
       "    <tr style=\"text-align: right;\">\n",
       "      <th></th>\n",
       "      <th>Id</th>\n",
       "      <th>0</th>\n",
       "      <th>1</th>\n",
       "      <th>2</th>\n",
       "      <th>3</th>\n",
       "      <th>4</th>\n",
       "      <th>5</th>\n",
       "      <th>6</th>\n",
       "      <th>7</th>\n",
       "      <th>8</th>\n",
       "      <th>...</th>\n",
       "      <th>63</th>\n",
       "      <th>64</th>\n",
       "      <th>65</th>\n",
       "      <th>66</th>\n",
       "      <th>67</th>\n",
       "      <th>68</th>\n",
       "      <th>69</th>\n",
       "      <th>70</th>\n",
       "      <th>71</th>\n",
       "      <th>Target</th>\n",
       "    </tr>\n",
       "  </thead>\n",
       "  <tbody>\n",
       "    <tr>\n",
       "      <th>0</th>\n",
       "      <td>0-query</td>\n",
       "      <td>-53.882748</td>\n",
       "      <td>17.971436</td>\n",
       "      <td>-42.117104</td>\n",
       "      <td>-183.93668</td>\n",
       "      <td>187.517490</td>\n",
       "      <td>-87.144930</td>\n",
       "      <td>-347.360606</td>\n",
       "      <td>38.307602</td>\n",
       "      <td>109.085560</td>\n",
       "      <td>...</td>\n",
       "      <td>70.107360</td>\n",
       "      <td>-155.80257</td>\n",
       "      <td>-101.965943</td>\n",
       "      <td>65.903790</td>\n",
       "      <td>34.457500</td>\n",
       "      <td>62.642094</td>\n",
       "      <td>134.763600</td>\n",
       "      <td>-415.750254</td>\n",
       "      <td>-25.958572</td>\n",
       "      <td>675816-base</td>\n",
       "    </tr>\n",
       "    <tr>\n",
       "      <th>1</th>\n",
       "      <td>1-query</td>\n",
       "      <td>-87.776370</td>\n",
       "      <td>6.806268</td>\n",
       "      <td>-32.054546</td>\n",
       "      <td>-177.26039</td>\n",
       "      <td>120.803330</td>\n",
       "      <td>-83.810590</td>\n",
       "      <td>-94.572749</td>\n",
       "      <td>-78.433090</td>\n",
       "      <td>124.915900</td>\n",
       "      <td>...</td>\n",
       "      <td>4.669178</td>\n",
       "      <td>-151.69771</td>\n",
       "      <td>-1.638704</td>\n",
       "      <td>68.170876</td>\n",
       "      <td>25.096191</td>\n",
       "      <td>89.974976</td>\n",
       "      <td>130.589630</td>\n",
       "      <td>-1035.092211</td>\n",
       "      <td>-51.276833</td>\n",
       "      <td>366656-base</td>\n",
       "    </tr>\n",
       "    <tr>\n",
       "      <th>2</th>\n",
       "      <td>2-query</td>\n",
       "      <td>-49.979565</td>\n",
       "      <td>3.841486</td>\n",
       "      <td>-116.118590</td>\n",
       "      <td>-180.40198</td>\n",
       "      <td>190.128430</td>\n",
       "      <td>-50.837620</td>\n",
       "      <td>26.943937</td>\n",
       "      <td>-30.447489</td>\n",
       "      <td>125.771164</td>\n",
       "      <td>...</td>\n",
       "      <td>78.039764</td>\n",
       "      <td>-169.14620</td>\n",
       "      <td>82.144186</td>\n",
       "      <td>66.008220</td>\n",
       "      <td>18.400496</td>\n",
       "      <td>212.409730</td>\n",
       "      <td>121.931470</td>\n",
       "      <td>-1074.464888</td>\n",
       "      <td>-22.547178</td>\n",
       "      <td>1447819-base</td>\n",
       "    </tr>\n",
       "    <tr>\n",
       "      <th>3</th>\n",
       "      <td>3-query</td>\n",
       "      <td>-47.810562</td>\n",
       "      <td>9.086598</td>\n",
       "      <td>-115.401695</td>\n",
       "      <td>-121.01136</td>\n",
       "      <td>94.652840</td>\n",
       "      <td>-109.255410</td>\n",
       "      <td>-775.150134</td>\n",
       "      <td>79.186520</td>\n",
       "      <td>124.003100</td>\n",
       "      <td>...</td>\n",
       "      <td>44.515266</td>\n",
       "      <td>-145.41675</td>\n",
       "      <td>93.990981</td>\n",
       "      <td>64.131350</td>\n",
       "      <td>106.061920</td>\n",
       "      <td>83.178760</td>\n",
       "      <td>118.277725</td>\n",
       "      <td>-1074.464888</td>\n",
       "      <td>-19.902788</td>\n",
       "      <td>1472602-base</td>\n",
       "    </tr>\n",
       "    <tr>\n",
       "      <th>4</th>\n",
       "      <td>4-query</td>\n",
       "      <td>-79.632126</td>\n",
       "      <td>14.442886</td>\n",
       "      <td>-58.903397</td>\n",
       "      <td>-147.05254</td>\n",
       "      <td>57.127068</td>\n",
       "      <td>-16.239529</td>\n",
       "      <td>-321.317964</td>\n",
       "      <td>45.984676</td>\n",
       "      <td>125.941284</td>\n",
       "      <td>...</td>\n",
       "      <td>45.028910</td>\n",
       "      <td>-196.09207</td>\n",
       "      <td>-117.626337</td>\n",
       "      <td>66.926220</td>\n",
       "      <td>42.456170</td>\n",
       "      <td>77.621765</td>\n",
       "      <td>92.479930</td>\n",
       "      <td>-1074.464888</td>\n",
       "      <td>-21.149351</td>\n",
       "      <td>717819-base</td>\n",
       "    </tr>\n",
       "  </tbody>\n",
       "</table>\n",
       "<p>5 rows × 74 columns</p>\n",
       "</div>"
      ],
      "text/plain": [
       "        Id          0          1           2          3           4  \\\n",
       "0  0-query -53.882748  17.971436  -42.117104 -183.93668  187.517490   \n",
       "1  1-query -87.776370   6.806268  -32.054546 -177.26039  120.803330   \n",
       "2  2-query -49.979565   3.841486 -116.118590 -180.40198  190.128430   \n",
       "3  3-query -47.810562   9.086598 -115.401695 -121.01136   94.652840   \n",
       "4  4-query -79.632126  14.442886  -58.903397 -147.05254   57.127068   \n",
       "\n",
       "            5           6          7           8  ...         63         64  \\\n",
       "0  -87.144930 -347.360606  38.307602  109.085560  ...  70.107360 -155.80257   \n",
       "1  -83.810590  -94.572749 -78.433090  124.915900  ...   4.669178 -151.69771   \n",
       "2  -50.837620   26.943937 -30.447489  125.771164  ...  78.039764 -169.14620   \n",
       "3 -109.255410 -775.150134  79.186520  124.003100  ...  44.515266 -145.41675   \n",
       "4  -16.239529 -321.317964  45.984676  125.941284  ...  45.028910 -196.09207   \n",
       "\n",
       "           65         66          67          68          69           70  \\\n",
       "0 -101.965943  65.903790   34.457500   62.642094  134.763600  -415.750254   \n",
       "1   -1.638704  68.170876   25.096191   89.974976  130.589630 -1035.092211   \n",
       "2   82.144186  66.008220   18.400496  212.409730  121.931470 -1074.464888   \n",
       "3   93.990981  64.131350  106.061920   83.178760  118.277725 -1074.464888   \n",
       "4 -117.626337  66.926220   42.456170   77.621765   92.479930 -1074.464888   \n",
       "\n",
       "          71        Target  \n",
       "0 -25.958572   675816-base  \n",
       "1 -51.276833   366656-base  \n",
       "2 -22.547178  1447819-base  \n",
       "3 -19.902788  1472602-base  \n",
       "4 -21.149351   717819-base  \n",
       "\n",
       "[5 rows x 74 columns]"
      ]
     },
     "execution_count": 20,
     "metadata": {},
     "output_type": "execute_result"
    }
   ],
   "source": [
    "train.info()\n",
    "train.head()\n",
    "# осматриваем трэйн"
   ]
  },
  {
   "cell_type": "code",
   "execution_count": 8,
   "id": "c37dbb0c",
   "metadata": {
    "scrolled": true
   },
   "outputs": [
    {
     "data": {
      "text/plain": [
       "0"
      ]
     },
     "execution_count": 8,
     "metadata": {},
     "output_type": "execute_result"
    }
   ],
   "source": [
    "train.isna().sum().sum()"
   ]
  },
  {
   "cell_type": "code",
   "execution_count": 9,
   "id": "d1502455",
   "metadata": {},
   "outputs": [
    {
     "data": {
      "text/plain": [
       "0"
      ]
     },
     "execution_count": 9,
     "metadata": {},
     "output_type": "execute_result"
    }
   ],
   "source": [
    "train.duplicated().sum()"
   ]
  },
  {
   "cell_type": "code",
   "execution_count": 10,
   "id": "b13ec9f2",
   "metadata": {},
   "outputs": [],
   "source": [
    "test = pd.read_csv('test.csv')\n",
    "# загружаем тест"
   ]
  },
  {
   "cell_type": "code",
   "execution_count": 21,
   "id": "c41e1828",
   "metadata": {},
   "outputs": [
    {
     "name": "stdout",
     "output_type": "stream",
     "text": [
      "<class 'pandas.core.frame.DataFrame'>\n",
      "RangeIndex: 100000 entries, 0 to 99999\n",
      "Data columns (total 73 columns):\n",
      " #   Column  Non-Null Count   Dtype  \n",
      "---  ------  --------------   -----  \n",
      " 0   Id      100000 non-null  object \n",
      " 1   0       100000 non-null  float64\n",
      " 2   1       100000 non-null  float64\n",
      " 3   2       100000 non-null  float64\n",
      " 4   3       100000 non-null  float64\n",
      " 5   4       100000 non-null  float64\n",
      " 6   5       100000 non-null  float64\n",
      " 7   6       100000 non-null  float64\n",
      " 8   7       100000 non-null  float64\n",
      " 9   8       100000 non-null  float64\n",
      " 10  9       100000 non-null  float64\n",
      " 11  10      100000 non-null  float64\n",
      " 12  11      100000 non-null  float64\n",
      " 13  12      100000 non-null  float64\n",
      " 14  13      100000 non-null  float64\n",
      " 15  14      100000 non-null  float64\n",
      " 16  15      100000 non-null  float64\n",
      " 17  16      100000 non-null  float64\n",
      " 18  17      100000 non-null  float64\n",
      " 19  18      100000 non-null  float64\n",
      " 20  19      100000 non-null  float64\n",
      " 21  20      100000 non-null  float64\n",
      " 22  21      100000 non-null  float64\n",
      " 23  22      100000 non-null  float64\n",
      " 24  23      100000 non-null  float64\n",
      " 25  24      100000 non-null  float64\n",
      " 26  25      100000 non-null  float64\n",
      " 27  26      100000 non-null  float64\n",
      " 28  27      100000 non-null  float64\n",
      " 29  28      100000 non-null  float64\n",
      " 30  29      100000 non-null  float64\n",
      " 31  30      100000 non-null  float64\n",
      " 32  31      100000 non-null  float64\n",
      " 33  32      100000 non-null  float64\n",
      " 34  33      100000 non-null  float64\n",
      " 35  34      100000 non-null  float64\n",
      " 36  35      100000 non-null  float64\n",
      " 37  36      100000 non-null  float64\n",
      " 38  37      100000 non-null  float64\n",
      " 39  38      100000 non-null  float64\n",
      " 40  39      100000 non-null  float64\n",
      " 41  40      100000 non-null  float64\n",
      " 42  41      100000 non-null  float64\n",
      " 43  42      100000 non-null  float64\n",
      " 44  43      100000 non-null  float64\n",
      " 45  44      100000 non-null  float64\n",
      " 46  45      100000 non-null  float64\n",
      " 47  46      100000 non-null  float64\n",
      " 48  47      100000 non-null  float64\n",
      " 49  48      100000 non-null  float64\n",
      " 50  49      100000 non-null  float64\n",
      " 51  50      100000 non-null  float64\n",
      " 52  51      100000 non-null  float64\n",
      " 53  52      100000 non-null  float64\n",
      " 54  53      100000 non-null  float64\n",
      " 55  54      100000 non-null  float64\n",
      " 56  55      100000 non-null  float64\n",
      " 57  56      100000 non-null  float64\n",
      " 58  57      100000 non-null  float64\n",
      " 59  58      100000 non-null  float64\n",
      " 60  59      100000 non-null  float64\n",
      " 61  60      100000 non-null  float64\n",
      " 62  61      100000 non-null  float64\n",
      " 63  62      100000 non-null  float64\n",
      " 64  63      100000 non-null  float64\n",
      " 65  64      100000 non-null  float64\n",
      " 66  65      100000 non-null  float64\n",
      " 67  66      100000 non-null  float64\n",
      " 68  67      100000 non-null  float64\n",
      " 69  68      100000 non-null  float64\n",
      " 70  69      100000 non-null  float64\n",
      " 71  70      100000 non-null  float64\n",
      " 72  71      100000 non-null  float64\n",
      "dtypes: float64(72), object(1)\n",
      "memory usage: 55.7+ MB\n"
     ]
    },
    {
     "data": {
      "text/html": [
       "<div>\n",
       "<style scoped>\n",
       "    .dataframe tbody tr th:only-of-type {\n",
       "        vertical-align: middle;\n",
       "    }\n",
       "\n",
       "    .dataframe tbody tr th {\n",
       "        vertical-align: top;\n",
       "    }\n",
       "\n",
       "    .dataframe thead th {\n",
       "        text-align: right;\n",
       "    }\n",
       "</style>\n",
       "<table border=\"1\" class=\"dataframe\">\n",
       "  <thead>\n",
       "    <tr style=\"text-align: right;\">\n",
       "      <th></th>\n",
       "      <th>Id</th>\n",
       "      <th>0</th>\n",
       "      <th>1</th>\n",
       "      <th>2</th>\n",
       "      <th>3</th>\n",
       "      <th>4</th>\n",
       "      <th>5</th>\n",
       "      <th>6</th>\n",
       "      <th>7</th>\n",
       "      <th>8</th>\n",
       "      <th>...</th>\n",
       "      <th>62</th>\n",
       "      <th>63</th>\n",
       "      <th>64</th>\n",
       "      <th>65</th>\n",
       "      <th>66</th>\n",
       "      <th>67</th>\n",
       "      <th>68</th>\n",
       "      <th>69</th>\n",
       "      <th>70</th>\n",
       "      <th>71</th>\n",
       "    </tr>\n",
       "  </thead>\n",
       "  <tbody>\n",
       "    <tr>\n",
       "      <th>0</th>\n",
       "      <td>100000-query</td>\n",
       "      <td>-57.372734</td>\n",
       "      <td>3.597752</td>\n",
       "      <td>-13.213642</td>\n",
       "      <td>-125.92679</td>\n",
       "      <td>110.74594</td>\n",
       "      <td>-81.279594</td>\n",
       "      <td>-461.003172</td>\n",
       "      <td>139.815720</td>\n",
       "      <td>112.880980</td>\n",
       "      <td>...</td>\n",
       "      <td>-75.51302</td>\n",
       "      <td>52.830902</td>\n",
       "      <td>-143.43945</td>\n",
       "      <td>59.051935</td>\n",
       "      <td>69.28224</td>\n",
       "      <td>61.927513</td>\n",
       "      <td>111.59253</td>\n",
       "      <td>115.140656</td>\n",
       "      <td>-1099.130485</td>\n",
       "      <td>-117.079360</td>\n",
       "    </tr>\n",
       "    <tr>\n",
       "      <th>1</th>\n",
       "      <td>100001-query</td>\n",
       "      <td>-53.758705</td>\n",
       "      <td>12.790300</td>\n",
       "      <td>-43.268543</td>\n",
       "      <td>-134.41762</td>\n",
       "      <td>114.44991</td>\n",
       "      <td>-90.520130</td>\n",
       "      <td>-759.626065</td>\n",
       "      <td>63.995087</td>\n",
       "      <td>127.117905</td>\n",
       "      <td>...</td>\n",
       "      <td>-79.44183</td>\n",
       "      <td>29.185436</td>\n",
       "      <td>-168.60590</td>\n",
       "      <td>-82.872443</td>\n",
       "      <td>70.76560</td>\n",
       "      <td>-65.975950</td>\n",
       "      <td>97.07716</td>\n",
       "      <td>123.391640</td>\n",
       "      <td>-744.442332</td>\n",
       "      <td>-25.009320</td>\n",
       "    </tr>\n",
       "    <tr>\n",
       "      <th>2</th>\n",
       "      <td>100002-query</td>\n",
       "      <td>-64.175095</td>\n",
       "      <td>-3.980927</td>\n",
       "      <td>-7.679249</td>\n",
       "      <td>-170.16093</td>\n",
       "      <td>96.44616</td>\n",
       "      <td>-62.377740</td>\n",
       "      <td>-759.626065</td>\n",
       "      <td>87.477554</td>\n",
       "      <td>131.270110</td>\n",
       "      <td>...</td>\n",
       "      <td>-134.79541</td>\n",
       "      <td>37.368730</td>\n",
       "      <td>-159.66231</td>\n",
       "      <td>-119.232725</td>\n",
       "      <td>67.71044</td>\n",
       "      <td>86.002060</td>\n",
       "      <td>137.63641</td>\n",
       "      <td>141.081630</td>\n",
       "      <td>-294.052271</td>\n",
       "      <td>-70.969604</td>\n",
       "    </tr>\n",
       "    <tr>\n",
       "      <th>3</th>\n",
       "      <td>100003-query</td>\n",
       "      <td>-99.286860</td>\n",
       "      <td>16.123936</td>\n",
       "      <td>9.837166</td>\n",
       "      <td>-148.06044</td>\n",
       "      <td>83.69708</td>\n",
       "      <td>-133.729720</td>\n",
       "      <td>58.576403</td>\n",
       "      <td>-19.046660</td>\n",
       "      <td>115.042404</td>\n",
       "      <td>...</td>\n",
       "      <td>-77.23611</td>\n",
       "      <td>44.100494</td>\n",
       "      <td>-132.53012</td>\n",
       "      <td>-106.318982</td>\n",
       "      <td>70.88396</td>\n",
       "      <td>23.577892</td>\n",
       "      <td>133.18396</td>\n",
       "      <td>143.252940</td>\n",
       "      <td>-799.363667</td>\n",
       "      <td>-89.392670</td>\n",
       "    </tr>\n",
       "    <tr>\n",
       "      <th>4</th>\n",
       "      <td>100004-query</td>\n",
       "      <td>-79.532920</td>\n",
       "      <td>-0.364173</td>\n",
       "      <td>-16.027431</td>\n",
       "      <td>-170.88495</td>\n",
       "      <td>165.45392</td>\n",
       "      <td>-28.291668</td>\n",
       "      <td>33.931936</td>\n",
       "      <td>34.411217</td>\n",
       "      <td>128.903980</td>\n",
       "      <td>...</td>\n",
       "      <td>-123.77025</td>\n",
       "      <td>45.635944</td>\n",
       "      <td>-134.25893</td>\n",
       "      <td>13.735359</td>\n",
       "      <td>70.61763</td>\n",
       "      <td>15.332115</td>\n",
       "      <td>154.56812</td>\n",
       "      <td>101.700640</td>\n",
       "      <td>-1171.892332</td>\n",
       "      <td>-125.307890</td>\n",
       "    </tr>\n",
       "  </tbody>\n",
       "</table>\n",
       "<p>5 rows × 73 columns</p>\n",
       "</div>"
      ],
      "text/plain": [
       "             Id          0          1          2          3          4  \\\n",
       "0  100000-query -57.372734   3.597752 -13.213642 -125.92679  110.74594   \n",
       "1  100001-query -53.758705  12.790300 -43.268543 -134.41762  114.44991   \n",
       "2  100002-query -64.175095  -3.980927  -7.679249 -170.16093   96.44616   \n",
       "3  100003-query -99.286860  16.123936   9.837166 -148.06044   83.69708   \n",
       "4  100004-query -79.532920  -0.364173 -16.027431 -170.88495  165.45392   \n",
       "\n",
       "            5           6           7           8  ...         62         63  \\\n",
       "0  -81.279594 -461.003172  139.815720  112.880980  ...  -75.51302  52.830902   \n",
       "1  -90.520130 -759.626065   63.995087  127.117905  ...  -79.44183  29.185436   \n",
       "2  -62.377740 -759.626065   87.477554  131.270110  ... -134.79541  37.368730   \n",
       "3 -133.729720   58.576403  -19.046660  115.042404  ...  -77.23611  44.100494   \n",
       "4  -28.291668   33.931936   34.411217  128.903980  ... -123.77025  45.635944   \n",
       "\n",
       "          64          65        66         67         68          69  \\\n",
       "0 -143.43945   59.051935  69.28224  61.927513  111.59253  115.140656   \n",
       "1 -168.60590  -82.872443  70.76560 -65.975950   97.07716  123.391640   \n",
       "2 -159.66231 -119.232725  67.71044  86.002060  137.63641  141.081630   \n",
       "3 -132.53012 -106.318982  70.88396  23.577892  133.18396  143.252940   \n",
       "4 -134.25893   13.735359  70.61763  15.332115  154.56812  101.700640   \n",
       "\n",
       "            70          71  \n",
       "0 -1099.130485 -117.079360  \n",
       "1  -744.442332  -25.009320  \n",
       "2  -294.052271  -70.969604  \n",
       "3  -799.363667  -89.392670  \n",
       "4 -1171.892332 -125.307890  \n",
       "\n",
       "[5 rows x 73 columns]"
      ]
     },
     "execution_count": 21,
     "metadata": {},
     "output_type": "execute_result"
    }
   ],
   "source": [
    "test.info()\n",
    "test.head()\n",
    "# осматриваем тест"
   ]
  },
  {
   "cell_type": "code",
   "execution_count": 11,
   "id": "d2da2b42",
   "metadata": {},
   "outputs": [
    {
     "data": {
      "text/plain": [
       "0"
      ]
     },
     "execution_count": 11,
     "metadata": {},
     "output_type": "execute_result"
    }
   ],
   "source": [
    "test.isna().sum().sum()\n"
   ]
  },
  {
   "cell_type": "code",
   "execution_count": 12,
   "id": "43001592",
   "metadata": {},
   "outputs": [
    {
     "data": {
      "text/plain": [
       "0"
      ]
     },
     "execution_count": 12,
     "metadata": {},
     "output_type": "execute_result"
    }
   ],
   "source": [
    "test.duplicated().sum()"
   ]
  },
  {
   "cell_type": "markdown",
   "id": "7a68f35d",
   "metadata": {},
   "source": [
    "Ниже проверим, все ли значения столбца train['Target'] присутствуют в базе:"
   ]
  },
  {
   "cell_type": "code",
   "execution_count": 13,
   "id": "82b39038",
   "metadata": {
    "scrolled": false
   },
   "outputs": [
    {
     "data": {
      "text/plain": [
       "91794"
      ]
     },
     "execution_count": 13,
     "metadata": {},
     "output_type": "execute_result"
    }
   ],
   "source": [
    "base.loc[base['Id'].isin(train['Target'])]['Id'].count()\n",
    "# количество записей в ID из базы, которые присутствуют в целевом признаке из трэйна"
   ]
  },
  {
   "cell_type": "code",
   "execution_count": 14,
   "id": "6951a037",
   "metadata": {},
   "outputs": [
    {
     "data": {
      "text/plain": [
       "100000"
      ]
     },
     "execution_count": 14,
     "metadata": {},
     "output_type": "execute_result"
    }
   ],
   "source": [
    "train.loc[train['Target'].isin(base['Id'])]['Target'].count()\n",
    "# количество записей в целевом признаке трэйна, для которых есть соответствие в базе"
   ]
  },
  {
   "cell_type": "markdown",
   "id": "1996f569",
   "metadata": {},
   "source": [
    "Как видно, 8 с небольшим тысяч записей трейна не имеют уникального таргета в базе. Следовательно, таргет имеет свойство повторяться. "
   ]
  },
  {
   "cell_type": "code",
   "execution_count": 10,
   "id": "0b365d62",
   "metadata": {
    "scrolled": false
   },
   "outputs": [
    {
     "data": {
      "text/plain": [
       "41568-base     7\n",
       "18784-base     7\n",
       "106681-base    6\n",
       "7473-base      6\n",
       "90018-base     6\n",
       "328932-base    5\n",
       "113723-base    5\n",
       "132878-base    5\n",
       "46246-base     5\n",
       "97372-base     5\n",
       "245081-base    5\n",
       "141489-base    5\n",
       "121075-base    5\n",
       "37032-base     5\n",
       "324246-base    5\n",
       "173185-base    5\n",
       "297371-base    5\n",
       "282745-base    5\n",
       "412645-base    5\n",
       "275969-base    5\n",
       "Name: Target, dtype: int64"
      ]
     },
     "execution_count": 10,
     "metadata": {},
     "output_type": "execute_result"
    }
   ],
   "source": [
    "train['Target'].value_counts().head(20)\n",
    "# смотрим, насколько часто повторяется целевой признак"
   ]
  },
  {
   "cell_type": "code",
   "execution_count": 11,
   "id": "82f8dfaa",
   "metadata": {
    "scrolled": true
   },
   "outputs": [
    {
     "data": {
      "text/plain": [
       "100000"
      ]
     },
     "execution_count": 11,
     "metadata": {},
     "output_type": "execute_result"
    }
   ],
   "source": [
    "train['Target'].value_counts().sum()\n"
   ]
  },
  {
   "cell_type": "markdown",
   "id": "b97bb8f6",
   "metadata": {},
   "source": [
    "Проверено: некоторые значения в поле Target не уникальны, но это не помешает дальнейшей работе - все они присутствуют в базе."
   ]
  },
  {
   "cell_type": "markdown",
   "id": "166214d8",
   "metadata": {},
   "source": [
    "## Алгоритм решения\n",
    "\n",
    "Для решения задачи мэтчинга предложен следующий алгоритм:\n",
    "1) По id из поля train['Target'] получаем векторы из базы.\n",
    "\n",
    "2) Все 72 измерения трейна используем как обучающие признаки.\n",
    "\n",
    "3) Каждая размерность вектора из базы становится отдельным целевым признаком.\n",
    "\n",
    "4) Обучаем 72 модели: фичи у всех одинаковые, таргет у каждой свой - отдельная размерность векторов из базы.\n",
    "\n",
    "5) Из них выбираем предсказания тех размерностей, где f2-значение показывает удовлетворительный результат (какой именно - увидим в процессе). Прочие размерности удаляем.\n",
    "\n",
    "6) Из полученных столбцов - предсказаний размерностей составляем строки - векторы. \n",
    "\n",
    "7) Из базы также удаляем неиспользуемые размерности\n",
    "\n",
    "8) К вектору предсказаний находим 10 ближайших соседей в базе\n",
    "\n",
    "9) Результат сохраняем в CSV с соблюдением требований формы для проверки заказчиком"
   ]
  },
  {
   "cell_type": "markdown",
   "id": "48112bc9",
   "metadata": {},
   "source": [
    "## Решение"
   ]
  },
  {
   "cell_type": "markdown",
   "id": "bf2db85d",
   "metadata": {},
   "source": [
    "### Формируем признаки для обучающей выборки\n",
    "#### Целевые признаки"
   ]
  },
  {
   "cell_type": "code",
   "execution_count": 17,
   "id": "8987df24",
   "metadata": {},
   "outputs": [
    {
     "data": {
      "text/plain": [
       "Index(['0', '1', '2', '3', '4', '5', '6', '7', '8', '9', '10', '11', '12',\n",
       "       '13', '14', '15', '16', '17', '18', '19', '20', '21', '22', '23', '24',\n",
       "       '25', '26', '27', '28', '29', '30', '31', '32', '33', '34', '35', '36',\n",
       "       '37', '38', '39', '40', '41', '42', '43', '44', '45', '46', '47', '48',\n",
       "       '49', '50', '51', '52', '53', '54', '55', '56', '57', '58', '59', '60',\n",
       "       '61', '62', '63', '64', '65', '66', '67', '68', '69', '70', '71'],\n",
       "      dtype='object')"
      ]
     },
     "execution_count": 17,
     "metadata": {},
     "output_type": "execute_result"
    }
   ],
   "source": [
    "target_train = pd.DataFrame(train['Target'])\n",
    "# получаем ID целевых записей в базе\n",
    "\n",
    "base = base.set_index('Id')\n",
    "# для объединения таблиц индекс базы временно подменим на ID\n",
    "\n",
    "target_train = target_train.join(base, on='Target', how='left')\n",
    "# объединяем таблицы\n",
    "\n",
    "base = base.reset_index()\n",
    "# возвращаем индекс на место - он еще понадобится.\n",
    "\n",
    "target_train = target_train.drop('Target', axis=1)\n",
    "# убираем ненужный столбец - с сохранением порядка строк\n",
    "\n",
    "target_train.columns\n",
    "# проверяем полученные признаки"
   ]
  },
  {
   "cell_type": "markdown",
   "id": "9526b1dd",
   "metadata": {},
   "source": [
    "Полученные признаки соответствуют ожидаемым.\n",
    "\n",
    "#### Обучающие признаки "
   ]
  },
  {
   "cell_type": "code",
   "execution_count": 22,
   "id": "c135913e",
   "metadata": {
    "scrolled": false
   },
   "outputs": [
    {
     "data": {
      "text/plain": [
       "Index(['0', '1', '2', '3', '4', '5', '6', '7', '8', '9', '10', '11', '12',\n",
       "       '13', '14', '15', '16', '17', '18', '19', '20', '21', '22', '23', '24',\n",
       "       '25', '26', '27', '28', '29', '30', '31', '32', '33', '34', '35', '36',\n",
       "       '37', '38', '39', '40', '41', '42', '43', '44', '45', '46', '47', '48',\n",
       "       '49', '50', '51', '52', '53', '54', '55', '56', '57', '58', '59', '60',\n",
       "       '61', '62', '63', '64', '65', '66', '67', '68', '69', '70', '71'],\n",
       "      dtype='object')"
      ]
     },
     "execution_count": 22,
     "metadata": {},
     "output_type": "execute_result"
    }
   ],
   "source": [
    "features_train = train.drop(['Id','Target'], axis=1)\n",
    "features_train.columns\n",
    "# проверяем полученные признаки"
   ]
  },
  {
   "cell_type": "markdown",
   "id": "59865754",
   "metadata": {},
   "source": [
    "Обучающие признаки также соответствуют ожидаемым\n",
    "\n",
    "#### Обработка тестовой выборки"
   ]
  },
  {
   "cell_type": "code",
   "execution_count": 43,
   "id": "cc42aa52",
   "metadata": {},
   "outputs": [
    {
     "name": "stdout",
     "output_type": "stream",
     "text": [
      "<class 'pandas.core.frame.DataFrame'>\n",
      "RangeIndex: 100000 entries, 0 to 99999\n",
      "Data columns (total 72 columns):\n",
      " #   Column  Non-Null Count   Dtype  \n",
      "---  ------  --------------   -----  \n",
      " 0   0       100000 non-null  float64\n",
      " 1   1       100000 non-null  float64\n",
      " 2   2       100000 non-null  float64\n",
      " 3   3       100000 non-null  float64\n",
      " 4   4       100000 non-null  float64\n",
      " 5   5       100000 non-null  float64\n",
      " 6   6       100000 non-null  float64\n",
      " 7   7       100000 non-null  float64\n",
      " 8   8       100000 non-null  float64\n",
      " 9   9       100000 non-null  float64\n",
      " 10  10      100000 non-null  float64\n",
      " 11  11      100000 non-null  float64\n",
      " 12  12      100000 non-null  float64\n",
      " 13  13      100000 non-null  float64\n",
      " 14  14      100000 non-null  float64\n",
      " 15  15      100000 non-null  float64\n",
      " 16  16      100000 non-null  float64\n",
      " 17  17      100000 non-null  float64\n",
      " 18  18      100000 non-null  float64\n",
      " 19  19      100000 non-null  float64\n",
      " 20  20      100000 non-null  float64\n",
      " 21  21      100000 non-null  float64\n",
      " 22  22      100000 non-null  float64\n",
      " 23  23      100000 non-null  float64\n",
      " 24  24      100000 non-null  float64\n",
      " 25  25      100000 non-null  float64\n",
      " 26  26      100000 non-null  float64\n",
      " 27  27      100000 non-null  float64\n",
      " 28  28      100000 non-null  float64\n",
      " 29  29      100000 non-null  float64\n",
      " 30  30      100000 non-null  float64\n",
      " 31  31      100000 non-null  float64\n",
      " 32  32      100000 non-null  float64\n",
      " 33  33      100000 non-null  float64\n",
      " 34  34      100000 non-null  float64\n",
      " 35  35      100000 non-null  float64\n",
      " 36  36      100000 non-null  float64\n",
      " 37  37      100000 non-null  float64\n",
      " 38  38      100000 non-null  float64\n",
      " 39  39      100000 non-null  float64\n",
      " 40  40      100000 non-null  float64\n",
      " 41  41      100000 non-null  float64\n",
      " 42  42      100000 non-null  float64\n",
      " 43  43      100000 non-null  float64\n",
      " 44  44      100000 non-null  float64\n",
      " 45  45      100000 non-null  float64\n",
      " 46  46      100000 non-null  float64\n",
      " 47  47      100000 non-null  float64\n",
      " 48  48      100000 non-null  float64\n",
      " 49  49      100000 non-null  float64\n",
      " 50  50      100000 non-null  float64\n",
      " 51  51      100000 non-null  float64\n",
      " 52  52      100000 non-null  float64\n",
      " 53  53      100000 non-null  float64\n",
      " 54  54      100000 non-null  float64\n",
      " 55  55      100000 non-null  float64\n",
      " 56  56      100000 non-null  float64\n",
      " 57  57      100000 non-null  float64\n",
      " 58  58      100000 non-null  float64\n",
      " 59  59      100000 non-null  float64\n",
      " 60  60      100000 non-null  float64\n",
      " 61  61      100000 non-null  float64\n",
      " 62  62      100000 non-null  float64\n",
      " 63  63      100000 non-null  float64\n",
      " 64  64      100000 non-null  float64\n",
      " 65  65      100000 non-null  float64\n",
      " 66  66      100000 non-null  float64\n",
      " 67  67      100000 non-null  float64\n",
      " 68  68      100000 non-null  float64\n",
      " 69  69      100000 non-null  float64\n",
      " 70  70      100000 non-null  float64\n",
      " 71  71      100000 non-null  float64\n",
      "dtypes: float64(72)\n",
      "memory usage: 54.9 MB\n"
     ]
    }
   ],
   "source": [
    "features_test = test.drop('Id', axis=1)\n",
    "# удаляем ID\n",
    "features_test.info()"
   ]
  },
  {
   "cell_type": "markdown",
   "id": "d9351288",
   "metadata": {},
   "source": [
    "### Обучение модели \n",
    "\n",
    "#### Определим приблизительный диапазон гиперпараметров на одной размерности\n",
    "\n"
   ]
  },
  {
   "cell_type": "code",
   "execution_count": 23,
   "id": "56892608",
   "metadata": {},
   "outputs": [],
   "source": [
    "# param_grid = {'max_depth':[1, 2, 3, 4, 5, 6, 7, 8, 9, 10, 11,15, 20, 25, -1],\n",
    "#              'n_estimators': [10,50, 100, 150, 200, 250, 300],\n",
    "#              'num_leaves':[6, 10, 20,31, 41, 51],\n",
    "#              'random_state':[13]}\n",
    "# при первичном подборе происходил перебор всех этих параметров.\n",
    "# ниже - сразу введены лучшие параметры для быстродействия\n",
    "\n",
    "param_grid = {'max_depth':[8],\n",
    "             'n_estimators': [250],\n",
    "             'num_leaves':[51],\n",
    "             'random_state':[13]}"
   ]
  },
  {
   "cell_type": "code",
   "execution_count": 24,
   "id": "2027f709",
   "metadata": {},
   "outputs": [],
   "source": [
    "# Задаем GridSearch с моделью LGBMRegressor:\n",
    "\n",
    "model = GridSearchCV(estimator=LGBMRegressor(),\n",
    "                    param_grid=param_grid,\n",
    "                    scoring='r2',\n",
    "                    cv=3,\n",
    "                    n_jobs=-1,\n",
    "                    verbose=3)"
   ]
  },
  {
   "cell_type": "code",
   "execution_count": 25,
   "id": "442f0924",
   "metadata": {
    "scrolled": false
   },
   "outputs": [
    {
     "name": "stdout",
     "output_type": "stream",
     "text": [
      "Fitting 3 folds for each of 1 candidates, totalling 3 fits\n",
      "0.7302624916187471\n",
      "{'max_depth': 8, 'n_estimators': 250, 'num_leaves': 51, 'random_state': 13}\n",
      "Wall time: 43.8 s\n"
     ]
    }
   ],
   "source": [
    "%%time\n",
    "model.fit(features_train, target_train.loc[:,'0']) # обучаем на фичах и первом столбце таргета\n",
    "print(model.best_score_) # выводим лучший результат\n",
    "print(model.best_params_) # и лучшие гиперпараметры"
   ]
  },
  {
   "cell_type": "markdown",
   "id": "7e99f660",
   "metadata": {},
   "source": [
    "Следующие параметры оказались оптимальными:\n",
    "\n",
    "{'max_depth': 8, 'n_estimators': 250, 'num_leaves': 51, 'random_state': 13}\n",
    "\n",
    "При этом метрика r2 составила  0.73.\n",
    "\n",
    "При подборе параметров регрессора для каждой размерности будем использовать близкие значения - для экономии времени. \n",
    "\n",
    "#### Обучаем по модели на каджой размерности, получаем предсказания и сохраняем в таблице"
   ]
  },
  {
   "cell_type": "code",
   "execution_count": 28,
   "id": "85946d63",
   "metadata": {},
   "outputs": [],
   "source": [
    "# пустая таблица\n",
    "predictions = pd.DataFrame()"
   ]
  },
  {
   "cell_type": "code",
   "execution_count": 29,
   "id": "cc319e0a",
   "metadata": {},
   "outputs": [],
   "source": [
    "# грид из близких параметров\n",
    "new_grid = {'max_depth':[7, 8, 9],\n",
    "             'n_estimators': [230, 250, 270],\n",
    "             'num_leaves':[46, 51, 57],\n",
    "             'random_state':[13]}"
   ]
  },
  {
   "cell_type": "code",
   "execution_count": 30,
   "id": "1504a0dd",
   "metadata": {
    "scrolled": false
   },
   "outputs": [
    {
     "name": "stdout",
     "output_type": "stream",
     "text": [
      "Fitting 3 folds for each of 27 candidates, totalling 81 fits\n",
      "0\n",
      "0.7308824514597659\n",
      "{'max_depth': 8, 'n_estimators': 230, 'num_leaves': 46, 'random_state': 13}\n",
      "Fitting 3 folds for each of 27 candidates, totalling 81 fits\n",
      "1\n",
      "0.7350989189043906\n",
      "{'max_depth': 8, 'n_estimators': 270, 'num_leaves': 51, 'random_state': 13}\n",
      "Fitting 3 folds for each of 27 candidates, totalling 81 fits\n",
      "2\n",
      "0.7193666971905408\n",
      "{'max_depth': 8, 'n_estimators': 230, 'num_leaves': 51, 'random_state': 13}\n",
      "Fitting 3 folds for each of 27 candidates, totalling 81 fits\n",
      "3\n",
      "0.7368909796386186\n",
      "{'max_depth': 8, 'n_estimators': 230, 'num_leaves': 57, 'random_state': 13}\n",
      "Fitting 3 folds for each of 27 candidates, totalling 81 fits\n",
      "4\n",
      "0.7261054911733235\n",
      "{'max_depth': 9, 'n_estimators': 230, 'num_leaves': 46, 'random_state': 13}\n",
      "Fitting 3 folds for each of 27 candidates, totalling 81 fits\n",
      "5\n",
      "0.7324768598385832\n",
      "{'max_depth': 9, 'n_estimators': 250, 'num_leaves': 57, 'random_state': 13}\n",
      "Fitting 3 folds for each of 27 candidates, totalling 81 fits\n",
      "6\n",
      "0.46524336007146333\n",
      "{'max_depth': 8, 'n_estimators': 230, 'num_leaves': 57, 'random_state': 13}\n",
      "Fitting 3 folds for each of 27 candidates, totalling 81 fits\n",
      "7\n",
      "0.7259435012020649\n",
      "{'max_depth': 8, 'n_estimators': 270, 'num_leaves': 51, 'random_state': 13}\n",
      "Fitting 3 folds for each of 27 candidates, totalling 81 fits\n",
      "8\n",
      "0.735723689071817\n",
      "{'max_depth': 9, 'n_estimators': 270, 'num_leaves': 46, 'random_state': 13}\n",
      "Fitting 3 folds for each of 27 candidates, totalling 81 fits\n",
      "9\n",
      "0.7366630927396299\n",
      "{'max_depth': 7, 'n_estimators': 270, 'num_leaves': 51, 'random_state': 13}\n",
      "Fitting 3 folds for each of 27 candidates, totalling 81 fits\n",
      "10\n",
      "0.7470554868239869\n",
      "{'max_depth': 8, 'n_estimators': 230, 'num_leaves': 46, 'random_state': 13}\n",
      "Fitting 3 folds for each of 27 candidates, totalling 81 fits\n",
      "11\n",
      "0.719455474309664\n",
      "{'max_depth': 8, 'n_estimators': 270, 'num_leaves': 46, 'random_state': 13}\n",
      "Fitting 3 folds for each of 27 candidates, totalling 81 fits\n",
      "12\n",
      "0.7409412035754652\n",
      "{'max_depth': 9, 'n_estimators': 230, 'num_leaves': 51, 'random_state': 13}\n",
      "Fitting 3 folds for each of 27 candidates, totalling 81 fits\n",
      "13\n",
      "0.7356480573276656\n",
      "{'max_depth': 8, 'n_estimators': 230, 'num_leaves': 46, 'random_state': 13}\n",
      "Fitting 3 folds for each of 27 candidates, totalling 81 fits\n",
      "14\n",
      "0.7394084769391833\n",
      "{'max_depth': 7, 'n_estimators': 250, 'num_leaves': 51, 'random_state': 13}\n",
      "Fitting 3 folds for each of 27 candidates, totalling 81 fits\n",
      "15\n",
      "0.7402232348535575\n",
      "{'max_depth': 8, 'n_estimators': 230, 'num_leaves': 51, 'random_state': 13}\n",
      "Fitting 3 folds for each of 27 candidates, totalling 81 fits\n",
      "16\n",
      "0.7313614783488144\n",
      "{'max_depth': 9, 'n_estimators': 230, 'num_leaves': 51, 'random_state': 13}\n",
      "Fitting 3 folds for each of 27 candidates, totalling 81 fits\n",
      "17\n",
      "0.7300851951704312\n",
      "{'max_depth': 7, 'n_estimators': 270, 'num_leaves': 51, 'random_state': 13}\n",
      "Fitting 3 folds for each of 27 candidates, totalling 81 fits\n",
      "18\n",
      "0.7325395523567053\n",
      "{'max_depth': 8, 'n_estimators': 270, 'num_leaves': 46, 'random_state': 13}\n",
      "Fitting 3 folds for each of 27 candidates, totalling 81 fits\n",
      "19\n",
      "0.7301080386516569\n",
      "{'max_depth': 7, 'n_estimators': 230, 'num_leaves': 51, 'random_state': 13}\n",
      "Fitting 3 folds for each of 27 candidates, totalling 81 fits\n",
      "20\n",
      "0.7306073962590592\n",
      "{'max_depth': 7, 'n_estimators': 250, 'num_leaves': 57, 'random_state': 13}\n",
      "Fitting 3 folds for each of 27 candidates, totalling 81 fits\n",
      "21\n",
      "0.2251249090438947\n",
      "{'max_depth': 8, 'n_estimators': 230, 'num_leaves': 57, 'random_state': 13}\n",
      "Fitting 3 folds for each of 27 candidates, totalling 81 fits\n",
      "22\n",
      "0.7194007720215225\n",
      "{'max_depth': 9, 'n_estimators': 250, 'num_leaves': 46, 'random_state': 13}\n",
      "Fitting 3 folds for each of 27 candidates, totalling 81 fits\n",
      "23\n",
      "0.7351517560321207\n",
      "{'max_depth': 8, 'n_estimators': 250, 'num_leaves': 46, 'random_state': 13}\n",
      "Fitting 3 folds for each of 27 candidates, totalling 81 fits\n",
      "24\n",
      "0.734410543472107\n",
      "{'max_depth': 7, 'n_estimators': 230, 'num_leaves': 57, 'random_state': 13}\n",
      "Fitting 3 folds for each of 27 candidates, totalling 81 fits\n",
      "25\n",
      "0.22152722087292875\n",
      "{'max_depth': 7, 'n_estimators': 250, 'num_leaves': 57, 'random_state': 13}\n",
      "Fitting 3 folds for each of 27 candidates, totalling 81 fits\n",
      "26\n",
      "0.7310410821566217\n",
      "{'max_depth': 8, 'n_estimators': 250, 'num_leaves': 51, 'random_state': 13}\n",
      "Fitting 3 folds for each of 27 candidates, totalling 81 fits\n",
      "27\n",
      "0.7342441917655324\n",
      "{'max_depth': 8, 'n_estimators': 270, 'num_leaves': 46, 'random_state': 13}\n",
      "Fitting 3 folds for each of 27 candidates, totalling 81 fits\n",
      "28\n",
      "0.7418856902567846\n",
      "{'max_depth': 7, 'n_estimators': 270, 'num_leaves': 51, 'random_state': 13}\n",
      "Fitting 3 folds for each of 27 candidates, totalling 81 fits\n",
      "29\n",
      "0.7413827601705569\n",
      "{'max_depth': 8, 'n_estimators': 230, 'num_leaves': 46, 'random_state': 13}\n",
      "Fitting 3 folds for each of 27 candidates, totalling 81 fits\n",
      "30\n",
      "0.7392457620014347\n",
      "{'max_depth': 8, 'n_estimators': 270, 'num_leaves': 51, 'random_state': 13}\n",
      "Fitting 3 folds for each of 27 candidates, totalling 81 fits\n",
      "31\n",
      "0.7383534177707377\n",
      "{'max_depth': 8, 'n_estimators': 230, 'num_leaves': 57, 'random_state': 13}\n",
      "Fitting 3 folds for each of 27 candidates, totalling 81 fits\n",
      "32\n",
      "0.7266097394352043\n",
      "{'max_depth': 7, 'n_estimators': 270, 'num_leaves': 46, 'random_state': 13}\n",
      "Fitting 3 folds for each of 27 candidates, totalling 81 fits\n",
      "33\n",
      "0.09698667780378434\n",
      "{'max_depth': 9, 'n_estimators': 250, 'num_leaves': 51, 'random_state': 13}\n",
      "Fitting 3 folds for each of 27 candidates, totalling 81 fits\n",
      "34\n",
      "0.7313753160773024\n",
      "{'max_depth': 8, 'n_estimators': 230, 'num_leaves': 57, 'random_state': 13}\n",
      "Fitting 3 folds for each of 27 candidates, totalling 81 fits\n",
      "35\n",
      "0.7325628403181493\n",
      "{'max_depth': 7, 'n_estimators': 270, 'num_leaves': 46, 'random_state': 13}\n",
      "Fitting 3 folds for each of 27 candidates, totalling 81 fits\n",
      "36\n",
      "0.7329562251326444\n",
      "{'max_depth': 7, 'n_estimators': 230, 'num_leaves': 46, 'random_state': 13}\n",
      "Fitting 3 folds for each of 27 candidates, totalling 81 fits\n",
      "37\n",
      "0.7418845406968405\n",
      "{'max_depth': 7, 'n_estimators': 270, 'num_leaves': 57, 'random_state': 13}\n",
      "Fitting 3 folds for each of 27 candidates, totalling 81 fits\n",
      "38\n",
      "0.7395227150154676\n",
      "{'max_depth': 8, 'n_estimators': 270, 'num_leaves': 51, 'random_state': 13}\n",
      "Fitting 3 folds for each of 27 candidates, totalling 81 fits\n",
      "39\n",
      "0.7306878856380669\n",
      "{'max_depth': 8, 'n_estimators': 270, 'num_leaves': 51, 'random_state': 13}\n",
      "Fitting 3 folds for each of 27 candidates, totalling 81 fits\n",
      "40\n",
      "0.727101074474818\n",
      "{'max_depth': 8, 'n_estimators': 270, 'num_leaves': 51, 'random_state': 13}\n",
      "Fitting 3 folds for each of 27 candidates, totalling 81 fits\n",
      "41\n",
      "0.7272187683876314\n",
      "{'max_depth': 7, 'n_estimators': 230, 'num_leaves': 46, 'random_state': 13}\n",
      "Fitting 3 folds for each of 27 candidates, totalling 81 fits\n",
      "42\n",
      "0.7297083576272025\n",
      "{'max_depth': 9, 'n_estimators': 230, 'num_leaves': 51, 'random_state': 13}\n",
      "Fitting 3 folds for each of 27 candidates, totalling 81 fits\n",
      "43\n",
      "0.7399238545790491\n",
      "{'max_depth': 9, 'n_estimators': 230, 'num_leaves': 57, 'random_state': 13}\n",
      "Fitting 3 folds for each of 27 candidates, totalling 81 fits\n",
      "44\n",
      "0.4933480124703686\n",
      "{'max_depth': 9, 'n_estimators': 270, 'num_leaves': 57, 'random_state': 13}\n",
      "Fitting 3 folds for each of 27 candidates, totalling 81 fits\n",
      "45\n",
      "0.7140803675111848\n",
      "{'max_depth': 7, 'n_estimators': 230, 'num_leaves': 57, 'random_state': 13}\n",
      "Fitting 3 folds for each of 27 candidates, totalling 81 fits\n",
      "46\n",
      "0.745860936807088\n",
      "{'max_depth': 9, 'n_estimators': 230, 'num_leaves': 46, 'random_state': 13}\n",
      "Fitting 3 folds for each of 27 candidates, totalling 81 fits\n",
      "47\n",
      "0.7280951637288166\n",
      "{'max_depth': 7, 'n_estimators': 250, 'num_leaves': 57, 'random_state': 13}\n",
      "Fitting 3 folds for each of 27 candidates, totalling 81 fits\n",
      "48\n",
      "0.7348012086753584\n",
      "{'max_depth': 9, 'n_estimators': 230, 'num_leaves': 51, 'random_state': 13}\n",
      "Fitting 3 folds for each of 27 candidates, totalling 81 fits\n",
      "49\n",
      "0.736462740678089\n",
      "{'max_depth': 7, 'n_estimators': 230, 'num_leaves': 46, 'random_state': 13}\n",
      "Fitting 3 folds for each of 27 candidates, totalling 81 fits\n",
      "50\n",
      "0.7397607314621116\n",
      "{'max_depth': 9, 'n_estimators': 270, 'num_leaves': 46, 'random_state': 13}\n",
      "Fitting 3 folds for each of 27 candidates, totalling 81 fits\n",
      "51\n",
      "0.7388800399288439\n",
      "{'max_depth': 7, 'n_estimators': 250, 'num_leaves': 46, 'random_state': 13}\n",
      "Fitting 3 folds for each of 27 candidates, totalling 81 fits\n"
     ]
    },
    {
     "name": "stdout",
     "output_type": "stream",
     "text": [
      "52\n",
      "0.7295631188981536\n",
      "{'max_depth': 8, 'n_estimators': 270, 'num_leaves': 51, 'random_state': 13}\n",
      "Fitting 3 folds for each of 27 candidates, totalling 81 fits\n",
      "53\n",
      "0.7320415274681255\n",
      "{'max_depth': 7, 'n_estimators': 230, 'num_leaves': 46, 'random_state': 13}\n",
      "Fitting 3 folds for each of 27 candidates, totalling 81 fits\n",
      "54\n",
      "0.7167533266431588\n",
      "{'max_depth': 7, 'n_estimators': 250, 'num_leaves': 51, 'random_state': 13}\n",
      "Fitting 3 folds for each of 27 candidates, totalling 81 fits\n",
      "55\n",
      "0.7365877217694266\n",
      "{'max_depth': 7, 'n_estimators': 230, 'num_leaves': 46, 'random_state': 13}\n",
      "Fitting 3 folds for each of 27 candidates, totalling 81 fits\n",
      "56\n",
      "0.7444893080911279\n",
      "{'max_depth': 9, 'n_estimators': 230, 'num_leaves': 51, 'random_state': 13}\n",
      "Fitting 3 folds for each of 27 candidates, totalling 81 fits\n",
      "57\n",
      "0.7242333373247097\n",
      "{'max_depth': 8, 'n_estimators': 270, 'num_leaves': 57, 'random_state': 13}\n",
      "Fitting 3 folds for each of 27 candidates, totalling 81 fits\n",
      "58\n",
      "0.7338932655910156\n",
      "{'max_depth': 7, 'n_estimators': 270, 'num_leaves': 46, 'random_state': 13}\n",
      "Fitting 3 folds for each of 27 candidates, totalling 81 fits\n",
      "59\n",
      "-0.00406081615032039\n",
      "{'max_depth': 8, 'n_estimators': 230, 'num_leaves': 51, 'random_state': 13}\n",
      "Fitting 3 folds for each of 27 candidates, totalling 81 fits\n",
      "60\n",
      "0.7337156357758922\n",
      "{'max_depth': 8, 'n_estimators': 250, 'num_leaves': 57, 'random_state': 13}\n",
      "Fitting 3 folds for each of 27 candidates, totalling 81 fits\n",
      "61\n",
      "0.7293982864263208\n",
      "{'max_depth': 9, 'n_estimators': 250, 'num_leaves': 51, 'random_state': 13}\n",
      "Fitting 3 folds for each of 27 candidates, totalling 81 fits\n",
      "62\n",
      "0.7210189304981208\n",
      "{'max_depth': 7, 'n_estimators': 250, 'num_leaves': 57, 'random_state': 13}\n",
      "Fitting 3 folds for each of 27 candidates, totalling 81 fits\n",
      "63\n",
      "0.7342801476820076\n",
      "{'max_depth': 8, 'n_estimators': 270, 'num_leaves': 46, 'random_state': 13}\n",
      "Fitting 3 folds for each of 27 candidates, totalling 81 fits\n",
      "64\n",
      "0.7176804005083177\n",
      "{'max_depth': 9, 'n_estimators': 250, 'num_leaves': 51, 'random_state': 13}\n",
      "Fitting 3 folds for each of 27 candidates, totalling 81 fits\n",
      "65\n",
      "0.1637525281873359\n",
      "{'max_depth': 9, 'n_estimators': 230, 'num_leaves': 46, 'random_state': 13}\n",
      "Fitting 3 folds for each of 27 candidates, totalling 81 fits\n",
      "66\n",
      "0.7308960895837321\n",
      "{'max_depth': 9, 'n_estimators': 250, 'num_leaves': 46, 'random_state': 13}\n",
      "Fitting 3 folds for each of 27 candidates, totalling 81 fits\n",
      "67\n",
      "0.7348241393274635\n",
      "{'max_depth': 8, 'n_estimators': 270, 'num_leaves': 51, 'random_state': 13}\n",
      "Fitting 3 folds for each of 27 candidates, totalling 81 fits\n",
      "68\n",
      "0.7442415288346139\n",
      "{'max_depth': 7, 'n_estimators': 230, 'num_leaves': 51, 'random_state': 13}\n",
      "Fitting 3 folds for each of 27 candidates, totalling 81 fits\n",
      "69\n",
      "0.7263591655249683\n",
      "{'max_depth': 7, 'n_estimators': 270, 'num_leaves': 51, 'random_state': 13}\n",
      "Fitting 3 folds for each of 27 candidates, totalling 81 fits\n",
      "70\n",
      "0.519758086329088\n",
      "{'max_depth': 7, 'n_estimators': 230, 'num_leaves': 46, 'random_state': 13}\n",
      "Fitting 3 folds for each of 27 candidates, totalling 81 fits\n",
      "71\n",
      "0.735348028221793\n",
      "{'max_depth': 7, 'n_estimators': 230, 'num_leaves': 57, 'random_state': 13}\n",
      "Wall time: 8h 10min 47s\n"
     ]
    }
   ],
   "source": [
    "%%time\n",
    "for n in target_train.columns: # для каждой размерности целевых признаков\n",
    "    model = GridSearchCV(estimator=LGBMRegressor(), # создаём и модель с подбором параметров и кросс-валидацией\n",
    "                    param_grid=new_grid,\n",
    "                    scoring='r2',\n",
    "                    cv=3,\n",
    "                    n_jobs=-1,\n",
    "                    verbose=3)\n",
    "    model.fit(features_train, target_train.loc[:, n]) # обучаем данную модель\n",
    "    predictions[n] = model.predict(features_test) # предсказываем размерность 'n' и записываем ее в таблицу predictions\n",
    "    print(n) # выводим номер размерности\n",
    "    print(model.best_score_) # выводим лучшее значение метрики\n",
    "    print(model.best_params_) # отображаем лучшие параметры"
   ]
  },
  {
   "cell_type": "markdown",
   "id": "8b7fdf14",
   "metadata": {},
   "source": [
    "Столбцы с низким качеством предсказаний:\n",
    "6, 21, 25, 33, 44, 59, 65, 70."
   ]
  },
  {
   "cell_type": "markdown",
   "id": "db30bb35",
   "metadata": {},
   "source": [
    "#### Сохраняем полученные предсказания в csv"
   ]
  },
  {
   "cell_type": "code",
   "execution_count": 34,
   "id": "31a34801",
   "metadata": {},
   "outputs": [],
   "source": [
    "# учитывая что предсказание заняло 8 часов, сохраним данные в csv, чтоб в дальнейшем не приходилось повторять запуск\n",
    "predictions.to_csv('lgbm_predictions.csv', index=False)"
   ]
  },
  {
   "cell_type": "code",
   "execution_count": 35,
   "id": "fe70a1e6",
   "metadata": {},
   "outputs": [],
   "source": [
    "predictions = pd.read_csv('lgbm_predictions.csv')"
   ]
  },
  {
   "cell_type": "markdown",
   "id": "9f29e1bb",
   "metadata": {},
   "source": [
    "#### Удаляем размерности с низким качеством предсказания:"
   ]
  },
  {
   "cell_type": "code",
   "execution_count": 27,
   "id": "48bcab1d",
   "metadata": {},
   "outputs": [],
   "source": [
    "# судя по выводу кода из ячейки с обучением моделей, качество предсказаний в данных столбцах значимо хуже остальных \n",
    "columns_to_drop = ['6', '21', '25', '33', '44', '59', '65', '70']"
   ]
  },
  {
   "cell_type": "code",
   "execution_count": 37,
   "id": "0783fa59",
   "metadata": {},
   "outputs": [],
   "source": [
    "predictions_cropped = predictions.drop(columns_to_drop, axis=1)\n",
    "# удаляем вышеуказанные столбцы\n"
   ]
  },
  {
   "cell_type": "code",
   "execution_count": 39,
   "id": "f27fac51",
   "metadata": {
    "scrolled": true
   },
   "outputs": [
    {
     "name": "stdout",
     "output_type": "stream",
     "text": [
      "<class 'pandas.core.frame.DataFrame'>\n",
      "RangeIndex: 100000 entries, 0 to 99999\n",
      "Data columns (total 64 columns):\n",
      " #   Column  Non-Null Count   Dtype  \n",
      "---  ------  --------------   -----  \n",
      " 0   0       100000 non-null  float64\n",
      " 1   1       100000 non-null  float64\n",
      " 2   2       100000 non-null  float64\n",
      " 3   3       100000 non-null  float64\n",
      " 4   4       100000 non-null  float64\n",
      " 5   5       100000 non-null  float64\n",
      " 6   7       100000 non-null  float64\n",
      " 7   8       100000 non-null  float64\n",
      " 8   9       100000 non-null  float64\n",
      " 9   10      100000 non-null  float64\n",
      " 10  11      100000 non-null  float64\n",
      " 11  12      100000 non-null  float64\n",
      " 12  13      100000 non-null  float64\n",
      " 13  14      100000 non-null  float64\n",
      " 14  15      100000 non-null  float64\n",
      " 15  16      100000 non-null  float64\n",
      " 16  17      100000 non-null  float64\n",
      " 17  18      100000 non-null  float64\n",
      " 18  19      100000 non-null  float64\n",
      " 19  20      100000 non-null  float64\n",
      " 20  22      100000 non-null  float64\n",
      " 21  23      100000 non-null  float64\n",
      " 22  24      100000 non-null  float64\n",
      " 23  26      100000 non-null  float64\n",
      " 24  27      100000 non-null  float64\n",
      " 25  28      100000 non-null  float64\n",
      " 26  29      100000 non-null  float64\n",
      " 27  30      100000 non-null  float64\n",
      " 28  31      100000 non-null  float64\n",
      " 29  32      100000 non-null  float64\n",
      " 30  34      100000 non-null  float64\n",
      " 31  35      100000 non-null  float64\n",
      " 32  36      100000 non-null  float64\n",
      " 33  37      100000 non-null  float64\n",
      " 34  38      100000 non-null  float64\n",
      " 35  39      100000 non-null  float64\n",
      " 36  40      100000 non-null  float64\n",
      " 37  41      100000 non-null  float64\n",
      " 38  42      100000 non-null  float64\n",
      " 39  43      100000 non-null  float64\n",
      " 40  45      100000 non-null  float64\n",
      " 41  46      100000 non-null  float64\n",
      " 42  47      100000 non-null  float64\n",
      " 43  48      100000 non-null  float64\n",
      " 44  49      100000 non-null  float64\n",
      " 45  50      100000 non-null  float64\n",
      " 46  51      100000 non-null  float64\n",
      " 47  52      100000 non-null  float64\n",
      " 48  53      100000 non-null  float64\n",
      " 49  54      100000 non-null  float64\n",
      " 50  55      100000 non-null  float64\n",
      " 51  56      100000 non-null  float64\n",
      " 52  57      100000 non-null  float64\n",
      " 53  58      100000 non-null  float64\n",
      " 54  60      100000 non-null  float64\n",
      " 55  61      100000 non-null  float64\n",
      " 56  62      100000 non-null  float64\n",
      " 57  63      100000 non-null  float64\n",
      " 58  64      100000 non-null  float64\n",
      " 59  66      100000 non-null  float64\n",
      " 60  67      100000 non-null  float64\n",
      " 61  68      100000 non-null  float64\n",
      " 62  69      100000 non-null  float64\n",
      " 63  71      100000 non-null  float64\n",
      "dtypes: float64(64)\n",
      "memory usage: 48.8 MB\n"
     ]
    },
    {
     "data": {
      "text/plain": [
       "(100000, 64)"
      ]
     },
     "execution_count": 39,
     "metadata": {},
     "output_type": "execute_result"
    }
   ],
   "source": [
    "predictions_cropped.info()\n",
    "# оцениваем результат\n",
    "predictions_cropped.shape"
   ]
  },
  {
   "cell_type": "markdown",
   "id": "f03cf802",
   "metadata": {},
   "source": [
    "Содержание таблицы predictions_cropped соответствует ожидаемому."
   ]
  },
  {
   "cell_type": "markdown",
   "id": "72490d4d",
   "metadata": {},
   "source": [
    "### Поиск ближайших соседей\n",
    "\n",
    "\n",
    "\n",
    "В рамках данной работы было опробовано несколько методов поиска ближайших соседей. Лучший результат показал способ с полным перебором:"
   ]
  },
  {
   "cell_type": "code",
   "execution_count": 27,
   "id": "44faf5c6",
   "metadata": {},
   "outputs": [],
   "source": [
    "base_vectors = base.drop(['Id'] + columns_to_drop, axis=1).values\n",
    "# получаем нужные столбцы из базы"
   ]
  },
  {
   "cell_type": "code",
   "execution_count": 30,
   "id": "ff076411",
   "metadata": {},
   "outputs": [
    {
     "data": {
      "text/plain": [
       "(2918139, 64)"
      ]
     },
     "execution_count": 30,
     "metadata": {},
     "output_type": "execute_result"
    }
   ],
   "source": [
    "base_vectors.shape\n",
    "# проверяем размерность полученной выгрузки"
   ]
  },
  {
   "cell_type": "code",
   "execution_count": 31,
   "id": "6cb70133",
   "metadata": {},
   "outputs": [],
   "source": [
    "index = faiss.IndexFlatL2(64)\n",
    "# создаем объект faiss.IndexFlatL2 размерностью 64\n",
    "index.add(base_vectors)\n",
    "# добавляем данные из базы"
   ]
  },
  {
   "cell_type": "code",
   "execution_count": 39,
   "id": "f4988568",
   "metadata": {
    "scrolled": false
   },
   "outputs": [
    {
     "name": "stdout",
     "output_type": "stream",
     "text": [
      "Wall time: 18min\n"
     ]
    }
   ],
   "source": [
    "%%time\n",
    "D, I = index.search(predictions_cropped, 10)\n",
    "# ищем 10 ближайших соответствий каждой строке из predictions_cropped"
   ]
  },
  {
   "cell_type": "markdown",
   "id": "a6914a8e",
   "metadata": {},
   "source": [
    "### Составление файла с результатом"
   ]
  },
  {
   "cell_type": "code",
   "execution_count": 40,
   "id": "29a79db5",
   "metadata": {},
   "outputs": [],
   "source": [
    "def prediction(row):\n",
    "    return(\" \".join(base.loc[row,:]['Id']))\n",
    "# функция на вход будет получать строку из таблицы,\n",
    "# затем значения из строки будет искать в индексах таблицы,\n",
    "# возвращать строку, составленную из ID в базе через пробел (согласно образцу ответа, предоставленному заказчиком) "
   ]
  },
  {
   "cell_type": "code",
   "execution_count": 41,
   "id": "fb6f4792",
   "metadata": {},
   "outputs": [],
   "source": [
    "result = pd.DataFrame(I)\n",
    "# для упрощения работы с данными переводим array в таблицу pandas"
   ]
  },
  {
   "cell_type": "code",
   "execution_count": 42,
   "id": "3f0f38e2",
   "metadata": {},
   "outputs": [],
   "source": [
    "result['Predicted'] = result.apply(prediction, axis=1) # применяем функцию"
   ]
  },
  {
   "cell_type": "code",
   "execution_count": 43,
   "id": "5dd617d4",
   "metadata": {},
   "outputs": [
    {
     "data": {
      "text/plain": [
       "0        2341758-base 399677-base 2760762-base 368296-b...\n",
       "1        2666508-base 163485-base 11853-base 508295-bas...\n",
       "2        472256-base 496010-base 153272-base 25113-base...\n",
       "3        3168654-base 2177262-base 1831175-base 4473809...\n",
       "4        1217188-base 75484-base 2411488-base 2980294-b...\n",
       "                               ...                        \n",
       "99995    1533158-base 880713-base 2681222-base 1243195-...\n",
       "99996    925466-base 936053-base 272706-base 525997-bas...\n",
       "99997    1801591-base 1196513-base 1517783-base 646953-...\n",
       "99998    341779-base 305868-base 4523822-base 3577160-b...\n",
       "99999    4678196-base 1011592-base 2503531-base 2818124...\n",
       "Name: Predicted, Length: 100000, dtype: object"
      ]
     },
     "execution_count": 43,
     "metadata": {},
     "output_type": "execute_result"
    }
   ],
   "source": [
    "result['Predicted'] \n",
    "# проверяем результат работы функции"
   ]
  },
  {
   "cell_type": "code",
   "execution_count": 44,
   "id": "27ceb461",
   "metadata": {},
   "outputs": [],
   "source": [
    "result['Id'] = test['Id']\n",
    "# добавляем столбец с Id из тестовой выборки"
   ]
  },
  {
   "cell_type": "code",
   "execution_count": 45,
   "id": "887b3252",
   "metadata": {},
   "outputs": [],
   "source": [
    "result = result[['Id', 'Predicted']]\n",
    "# оставляем только нужные столбцы"
   ]
  },
  {
   "cell_type": "code",
   "execution_count": 46,
   "id": "abd494d0",
   "metadata": {
    "scrolled": false
   },
   "outputs": [
    {
     "data": {
      "text/html": [
       "<div>\n",
       "<style scoped>\n",
       "    .dataframe tbody tr th:only-of-type {\n",
       "        vertical-align: middle;\n",
       "    }\n",
       "\n",
       "    .dataframe tbody tr th {\n",
       "        vertical-align: top;\n",
       "    }\n",
       "\n",
       "    .dataframe thead th {\n",
       "        text-align: right;\n",
       "    }\n",
       "</style>\n",
       "<table border=\"1\" class=\"dataframe\">\n",
       "  <thead>\n",
       "    <tr style=\"text-align: right;\">\n",
       "      <th></th>\n",
       "      <th>Id</th>\n",
       "      <th>Predicted</th>\n",
       "    </tr>\n",
       "  </thead>\n",
       "  <tbody>\n",
       "    <tr>\n",
       "      <th>0</th>\n",
       "      <td>100000-query</td>\n",
       "      <td>2341758-base 399677-base 2760762-base 368296-b...</td>\n",
       "    </tr>\n",
       "    <tr>\n",
       "      <th>1</th>\n",
       "      <td>100001-query</td>\n",
       "      <td>2666508-base 163485-base 11853-base 508295-bas...</td>\n",
       "    </tr>\n",
       "    <tr>\n",
       "      <th>2</th>\n",
       "      <td>100002-query</td>\n",
       "      <td>472256-base 496010-base 153272-base 25113-base...</td>\n",
       "    </tr>\n",
       "    <tr>\n",
       "      <th>3</th>\n",
       "      <td>100003-query</td>\n",
       "      <td>3168654-base 2177262-base 1831175-base 4473809...</td>\n",
       "    </tr>\n",
       "    <tr>\n",
       "      <th>4</th>\n",
       "      <td>100004-query</td>\n",
       "      <td>1217188-base 75484-base 2411488-base 2980294-b...</td>\n",
       "    </tr>\n",
       "    <tr>\n",
       "      <th>...</th>\n",
       "      <td>...</td>\n",
       "      <td>...</td>\n",
       "    </tr>\n",
       "    <tr>\n",
       "      <th>99995</th>\n",
       "      <td>199995-query</td>\n",
       "      <td>1533158-base 880713-base 2681222-base 1243195-...</td>\n",
       "    </tr>\n",
       "    <tr>\n",
       "      <th>99996</th>\n",
       "      <td>199996-query</td>\n",
       "      <td>925466-base 936053-base 272706-base 525997-bas...</td>\n",
       "    </tr>\n",
       "    <tr>\n",
       "      <th>99997</th>\n",
       "      <td>199997-query</td>\n",
       "      <td>1801591-base 1196513-base 1517783-base 646953-...</td>\n",
       "    </tr>\n",
       "    <tr>\n",
       "      <th>99998</th>\n",
       "      <td>199998-query</td>\n",
       "      <td>341779-base 305868-base 4523822-base 3577160-b...</td>\n",
       "    </tr>\n",
       "    <tr>\n",
       "      <th>99999</th>\n",
       "      <td>199999-query</td>\n",
       "      <td>4678196-base 1011592-base 2503531-base 2818124...</td>\n",
       "    </tr>\n",
       "  </tbody>\n",
       "</table>\n",
       "<p>100000 rows × 2 columns</p>\n",
       "</div>"
      ],
      "text/plain": [
       "                 Id                                          Predicted\n",
       "0      100000-query  2341758-base 399677-base 2760762-base 368296-b...\n",
       "1      100001-query  2666508-base 163485-base 11853-base 508295-bas...\n",
       "2      100002-query  472256-base 496010-base 153272-base 25113-base...\n",
       "3      100003-query  3168654-base 2177262-base 1831175-base 4473809...\n",
       "4      100004-query  1217188-base 75484-base 2411488-base 2980294-b...\n",
       "...             ...                                                ...\n",
       "99995  199995-query  1533158-base 880713-base 2681222-base 1243195-...\n",
       "99996  199996-query  925466-base 936053-base 272706-base 525997-bas...\n",
       "99997  199997-query  1801591-base 1196513-base 1517783-base 646953-...\n",
       "99998  199998-query  341779-base 305868-base 4523822-base 3577160-b...\n",
       "99999  199999-query  4678196-base 1011592-base 2503531-base 2818124...\n",
       "\n",
       "[100000 rows x 2 columns]"
      ]
     },
     "execution_count": 46,
     "metadata": {},
     "output_type": "execute_result"
    }
   ],
   "source": [
    "result"
   ]
  },
  {
   "cell_type": "code",
   "execution_count": 47,
   "id": "58c76ec7",
   "metadata": {},
   "outputs": [],
   "source": [
    "result.to_csv('result_cropped_full.csv', index=False)\n",
    "# сохраняем результат в csv"
   ]
  },
  {
   "cell_type": "markdown",
   "id": "b5cde1fe",
   "metadata": {},
   "source": [
    "### Результат работы алгоритма \n",
    "Предложенным выше методом достигнута полнота 0.73 на тестовых данных при загрузке результата на kaggle."
   ]
  },
  {
   "cell_type": "markdown",
   "id": "f0a4d3a5",
   "metadata": {},
   "source": [
    "## Метод повышения качества алгоритма\n",
    "\n",
    "С целью улучшения качества предсказаний предложено добавить в алгоритм модель третьего уровня: \n",
    "\n",
    "- Обучаем классификатор\n",
    "    - положительным классом будут соответствия между вектором трэйн-выборки и из базы;\n",
    "    - отрицательным классом будут подобранные случайным образом соответствия\n",
    "- Делаем иную выгрузку из базы\n",
    "    - для каждой записи из query ищем не 10, а более 10 ближайших соседей из базы\n",
    "    - используем классификатор двумя способами:\n",
    "        - посредством метода классификатора predict_proba выбираем 10 записей с наибольшей вероятностью положительного класса. \n",
    "        - используем метод классификатора predict c целью снижения приоритета отрицательного класса.\n",
    "        - сравниваем результаты между собой и с исходным результатом"
   ]
  },
  {
   "cell_type": "markdown",
   "id": "2aa94cbb",
   "metadata": {},
   "source": [
    "### Подготовим данные"
   ]
  },
  {
   "cell_type": "code",
   "execution_count": 103,
   "id": "9085d722",
   "metadata": {
    "scrolled": true
   },
   "outputs": [],
   "source": [
    "features_class = features_train[:50000].drop(columns_to_drop, axis=1).join(\n",
    "    target_train[:50000].drop(columns_to_drop, axis=1), rsuffix='t')\n",
    "# первая половина обучающей выборки для классификатора:\n",
    "# соединяем половину трэйн-выборки с соответствующими таргету записями из таргета."
   ]
  },
  {
   "cell_type": "code",
   "execution_count": 104,
   "id": "545042ad",
   "metadata": {},
   "outputs": [],
   "source": [
    "features_class['target'] = 1\n",
    "# присваиваем положительный класс"
   ]
  },
  {
   "cell_type": "code",
   "execution_count": 105,
   "id": "b0024fbe",
   "metadata": {
    "scrolled": true
   },
   "outputs": [
    {
     "data": {
      "text/plain": [
       "(50000, 129)"
      ]
     },
     "execution_count": 105,
     "metadata": {},
     "output_type": "execute_result"
    }
   ],
   "source": [
    "features_class.shape\n",
    "# проверяем число столбцов: должно быть 129 - в строке два 64-размерных вектора и один столбец класса"
   ]
  },
  {
   "cell_type": "code",
   "execution_count": 106,
   "id": "dab47f51",
   "metadata": {},
   "outputs": [
    {
     "data": {
      "text/html": [
       "<div>\n",
       "<style scoped>\n",
       "    .dataframe tbody tr th:only-of-type {\n",
       "        vertical-align: middle;\n",
       "    }\n",
       "\n",
       "    .dataframe tbody tr th {\n",
       "        vertical-align: top;\n",
       "    }\n",
       "\n",
       "    .dataframe thead th {\n",
       "        text-align: right;\n",
       "    }\n",
       "</style>\n",
       "<table border=\"1\" class=\"dataframe\">\n",
       "  <thead>\n",
       "    <tr style=\"text-align: right;\">\n",
       "      <th></th>\n",
       "      <th>0</th>\n",
       "      <th>1</th>\n",
       "      <th>2</th>\n",
       "      <th>3</th>\n",
       "      <th>4</th>\n",
       "      <th>5</th>\n",
       "      <th>7</th>\n",
       "      <th>8</th>\n",
       "      <th>9</th>\n",
       "      <th>10</th>\n",
       "      <th>...</th>\n",
       "      <th>61t</th>\n",
       "      <th>62t</th>\n",
       "      <th>63t</th>\n",
       "      <th>64t</th>\n",
       "      <th>66t</th>\n",
       "      <th>67t</th>\n",
       "      <th>68t</th>\n",
       "      <th>69t</th>\n",
       "      <th>71t</th>\n",
       "      <th>target</th>\n",
       "    </tr>\n",
       "  </thead>\n",
       "  <tbody>\n",
       "    <tr>\n",
       "      <th>0</th>\n",
       "      <td>-53.882748</td>\n",
       "      <td>17.971436</td>\n",
       "      <td>-42.117104</td>\n",
       "      <td>-183.93668</td>\n",
       "      <td>187.517490</td>\n",
       "      <td>-87.144930</td>\n",
       "      <td>38.307602</td>\n",
       "      <td>109.085560</td>\n",
       "      <td>30.413513</td>\n",
       "      <td>-88.082690</td>\n",
       "      <td>...</td>\n",
       "      <td>-136.331360</td>\n",
       "      <td>-107.259094</td>\n",
       "      <td>80.318184</td>\n",
       "      <td>-151.78957</td>\n",
       "      <td>66.886116</td>\n",
       "      <td>45.391710</td>\n",
       "      <td>40.096794</td>\n",
       "      <td>116.982010</td>\n",
       "      <td>-18.195980</td>\n",
       "      <td>1</td>\n",
       "    </tr>\n",
       "    <tr>\n",
       "      <th>1</th>\n",
       "      <td>-87.776370</td>\n",
       "      <td>6.806268</td>\n",
       "      <td>-32.054546</td>\n",
       "      <td>-177.26039</td>\n",
       "      <td>120.803330</td>\n",
       "      <td>-83.810590</td>\n",
       "      <td>-78.433090</td>\n",
       "      <td>124.915900</td>\n",
       "      <td>140.331070</td>\n",
       "      <td>-177.605800</td>\n",
       "      <td>...</td>\n",
       "      <td>-132.142880</td>\n",
       "      <td>-77.159775</td>\n",
       "      <td>12.424929</td>\n",
       "      <td>-162.74518</td>\n",
       "      <td>70.269700</td>\n",
       "      <td>-15.091993</td>\n",
       "      <td>48.642250</td>\n",
       "      <td>101.123980</td>\n",
       "      <td>-71.665270</td>\n",
       "      <td>1</td>\n",
       "    </tr>\n",
       "    <tr>\n",
       "      <th>2</th>\n",
       "      <td>-49.979565</td>\n",
       "      <td>3.841486</td>\n",
       "      <td>-116.118590</td>\n",
       "      <td>-180.40198</td>\n",
       "      <td>190.128430</td>\n",
       "      <td>-50.837620</td>\n",
       "      <td>-30.447489</td>\n",
       "      <td>125.771164</td>\n",
       "      <td>211.607820</td>\n",
       "      <td>-86.346560</td>\n",
       "      <td>...</td>\n",
       "      <td>-145.316040</td>\n",
       "      <td>-51.152130</td>\n",
       "      <td>94.640840</td>\n",
       "      <td>-176.32103</td>\n",
       "      <td>66.266970</td>\n",
       "      <td>17.248710</td>\n",
       "      <td>170.587340</td>\n",
       "      <td>131.261600</td>\n",
       "      <td>-33.020058</td>\n",
       "      <td>1</td>\n",
       "    </tr>\n",
       "    <tr>\n",
       "      <th>3</th>\n",
       "      <td>-47.810562</td>\n",
       "      <td>9.086598</td>\n",
       "      <td>-115.401695</td>\n",
       "      <td>-121.01136</td>\n",
       "      <td>94.652840</td>\n",
       "      <td>-109.255410</td>\n",
       "      <td>79.186520</td>\n",
       "      <td>124.003100</td>\n",
       "      <td>242.650650</td>\n",
       "      <td>-146.517070</td>\n",
       "      <td>...</td>\n",
       "      <td>-127.109840</td>\n",
       "      <td>-56.015300</td>\n",
       "      <td>41.230500</td>\n",
       "      <td>-136.19551</td>\n",
       "      <td>64.016380</td>\n",
       "      <td>97.340790</td>\n",
       "      <td>54.679436</td>\n",
       "      <td>118.847440</td>\n",
       "      <td>3.276848</td>\n",
       "      <td>1</td>\n",
       "    </tr>\n",
       "    <tr>\n",
       "      <th>4</th>\n",
       "      <td>-79.632126</td>\n",
       "      <td>14.442886</td>\n",
       "      <td>-58.903397</td>\n",
       "      <td>-147.05254</td>\n",
       "      <td>57.127068</td>\n",
       "      <td>-16.239529</td>\n",
       "      <td>45.984676</td>\n",
       "      <td>125.941284</td>\n",
       "      <td>103.392670</td>\n",
       "      <td>-107.153020</td>\n",
       "      <td>...</td>\n",
       "      <td>-103.342026</td>\n",
       "      <td>-68.775360</td>\n",
       "      <td>45.028675</td>\n",
       "      <td>-196.09872</td>\n",
       "      <td>66.926575</td>\n",
       "      <td>42.453735</td>\n",
       "      <td>77.619740</td>\n",
       "      <td>92.482574</td>\n",
       "      <td>-21.129560</td>\n",
       "      <td>1</td>\n",
       "    </tr>\n",
       "    <tr>\n",
       "      <th>...</th>\n",
       "      <td>...</td>\n",
       "      <td>...</td>\n",
       "      <td>...</td>\n",
       "      <td>...</td>\n",
       "      <td>...</td>\n",
       "      <td>...</td>\n",
       "      <td>...</td>\n",
       "      <td>...</td>\n",
       "      <td>...</td>\n",
       "      <td>...</td>\n",
       "      <td>...</td>\n",
       "      <td>...</td>\n",
       "      <td>...</td>\n",
       "      <td>...</td>\n",
       "      <td>...</td>\n",
       "      <td>...</td>\n",
       "      <td>...</td>\n",
       "      <td>...</td>\n",
       "      <td>...</td>\n",
       "      <td>...</td>\n",
       "      <td>...</td>\n",
       "    </tr>\n",
       "    <tr>\n",
       "      <th>49995</th>\n",
       "      <td>-57.257410</td>\n",
       "      <td>2.890785</td>\n",
       "      <td>-50.811123</td>\n",
       "      <td>-118.41748</td>\n",
       "      <td>8.520401</td>\n",
       "      <td>-81.084350</td>\n",
       "      <td>55.407425</td>\n",
       "      <td>117.723660</td>\n",
       "      <td>230.292720</td>\n",
       "      <td>-142.937560</td>\n",
       "      <td>...</td>\n",
       "      <td>-129.294460</td>\n",
       "      <td>-23.869743</td>\n",
       "      <td>71.260330</td>\n",
       "      <td>-180.09415</td>\n",
       "      <td>67.617676</td>\n",
       "      <td>39.593010</td>\n",
       "      <td>52.107370</td>\n",
       "      <td>71.998870</td>\n",
       "      <td>-58.449375</td>\n",
       "      <td>1</td>\n",
       "    </tr>\n",
       "    <tr>\n",
       "      <th>49996</th>\n",
       "      <td>-54.996090</td>\n",
       "      <td>9.204070</td>\n",
       "      <td>-31.005787</td>\n",
       "      <td>-159.88655</td>\n",
       "      <td>201.896410</td>\n",
       "      <td>-89.823990</td>\n",
       "      <td>-59.827393</td>\n",
       "      <td>126.782845</td>\n",
       "      <td>133.640640</td>\n",
       "      <td>-169.872480</td>\n",
       "      <td>...</td>\n",
       "      <td>-140.378100</td>\n",
       "      <td>-114.298010</td>\n",
       "      <td>3.899488</td>\n",
       "      <td>-166.42350</td>\n",
       "      <td>66.568220</td>\n",
       "      <td>7.049480</td>\n",
       "      <td>62.138836</td>\n",
       "      <td>132.433150</td>\n",
       "      <td>-73.210810</td>\n",
       "      <td>1</td>\n",
       "    </tr>\n",
       "    <tr>\n",
       "      <th>49997</th>\n",
       "      <td>-87.809620</td>\n",
       "      <td>16.104704</td>\n",
       "      <td>-9.053341</td>\n",
       "      <td>-133.52360</td>\n",
       "      <td>204.127140</td>\n",
       "      <td>-81.612686</td>\n",
       "      <td>-43.382545</td>\n",
       "      <td>123.780525</td>\n",
       "      <td>36.190895</td>\n",
       "      <td>-189.743990</td>\n",
       "      <td>...</td>\n",
       "      <td>-124.267540</td>\n",
       "      <td>-83.360230</td>\n",
       "      <td>10.408098</td>\n",
       "      <td>-209.89703</td>\n",
       "      <td>69.190636</td>\n",
       "      <td>-76.470140</td>\n",
       "      <td>60.357050</td>\n",
       "      <td>118.961680</td>\n",
       "      <td>-38.207077</td>\n",
       "      <td>1</td>\n",
       "    </tr>\n",
       "    <tr>\n",
       "      <th>49998</th>\n",
       "      <td>-88.828350</td>\n",
       "      <td>6.122507</td>\n",
       "      <td>-57.968323</td>\n",
       "      <td>-143.61010</td>\n",
       "      <td>72.058205</td>\n",
       "      <td>-81.916470</td>\n",
       "      <td>3.348228</td>\n",
       "      <td>126.298600</td>\n",
       "      <td>96.652756</td>\n",
       "      <td>-111.561295</td>\n",
       "      <td>...</td>\n",
       "      <td>-140.731340</td>\n",
       "      <td>-99.281110</td>\n",
       "      <td>23.797993</td>\n",
       "      <td>-153.91867</td>\n",
       "      <td>65.864320</td>\n",
       "      <td>40.747856</td>\n",
       "      <td>181.227510</td>\n",
       "      <td>133.742450</td>\n",
       "      <td>-92.536960</td>\n",
       "      <td>1</td>\n",
       "    </tr>\n",
       "    <tr>\n",
       "      <th>49999</th>\n",
       "      <td>-82.857400</td>\n",
       "      <td>16.252903</td>\n",
       "      <td>-70.248610</td>\n",
       "      <td>-148.16520</td>\n",
       "      <td>60.067440</td>\n",
       "      <td>-104.878920</td>\n",
       "      <td>-40.103577</td>\n",
       "      <td>126.657360</td>\n",
       "      <td>172.167450</td>\n",
       "      <td>-179.276950</td>\n",
       "      <td>...</td>\n",
       "      <td>-137.292650</td>\n",
       "      <td>-91.298485</td>\n",
       "      <td>59.020690</td>\n",
       "      <td>-192.90567</td>\n",
       "      <td>70.540580</td>\n",
       "      <td>54.047190</td>\n",
       "      <td>157.891140</td>\n",
       "      <td>110.862000</td>\n",
       "      <td>-36.869915</td>\n",
       "      <td>1</td>\n",
       "    </tr>\n",
       "  </tbody>\n",
       "</table>\n",
       "<p>50000 rows × 129 columns</p>\n",
       "</div>"
      ],
      "text/plain": [
       "               0          1           2          3           4           5  \\\n",
       "0     -53.882748  17.971436  -42.117104 -183.93668  187.517490  -87.144930   \n",
       "1     -87.776370   6.806268  -32.054546 -177.26039  120.803330  -83.810590   \n",
       "2     -49.979565   3.841486 -116.118590 -180.40198  190.128430  -50.837620   \n",
       "3     -47.810562   9.086598 -115.401695 -121.01136   94.652840 -109.255410   \n",
       "4     -79.632126  14.442886  -58.903397 -147.05254   57.127068  -16.239529   \n",
       "...          ...        ...         ...        ...         ...         ...   \n",
       "49995 -57.257410   2.890785  -50.811123 -118.41748    8.520401  -81.084350   \n",
       "49996 -54.996090   9.204070  -31.005787 -159.88655  201.896410  -89.823990   \n",
       "49997 -87.809620  16.104704   -9.053341 -133.52360  204.127140  -81.612686   \n",
       "49998 -88.828350   6.122507  -57.968323 -143.61010   72.058205  -81.916470   \n",
       "49999 -82.857400  16.252903  -70.248610 -148.16520   60.067440 -104.878920   \n",
       "\n",
       "               7           8           9          10  ...         61t  \\\n",
       "0      38.307602  109.085560   30.413513  -88.082690  ... -136.331360   \n",
       "1     -78.433090  124.915900  140.331070 -177.605800  ... -132.142880   \n",
       "2     -30.447489  125.771164  211.607820  -86.346560  ... -145.316040   \n",
       "3      79.186520  124.003100  242.650650 -146.517070  ... -127.109840   \n",
       "4      45.984676  125.941284  103.392670 -107.153020  ... -103.342026   \n",
       "...          ...         ...         ...         ...  ...         ...   \n",
       "49995  55.407425  117.723660  230.292720 -142.937560  ... -129.294460   \n",
       "49996 -59.827393  126.782845  133.640640 -169.872480  ... -140.378100   \n",
       "49997 -43.382545  123.780525   36.190895 -189.743990  ... -124.267540   \n",
       "49998   3.348228  126.298600   96.652756 -111.561295  ... -140.731340   \n",
       "49999 -40.103577  126.657360  172.167450 -179.276950  ... -137.292650   \n",
       "\n",
       "              62t        63t        64t        66t        67t         68t  \\\n",
       "0     -107.259094  80.318184 -151.78957  66.886116  45.391710   40.096794   \n",
       "1      -77.159775  12.424929 -162.74518  70.269700 -15.091993   48.642250   \n",
       "2      -51.152130  94.640840 -176.32103  66.266970  17.248710  170.587340   \n",
       "3      -56.015300  41.230500 -136.19551  64.016380  97.340790   54.679436   \n",
       "4      -68.775360  45.028675 -196.09872  66.926575  42.453735   77.619740   \n",
       "...           ...        ...        ...        ...        ...         ...   \n",
       "49995  -23.869743  71.260330 -180.09415  67.617676  39.593010   52.107370   \n",
       "49996 -114.298010   3.899488 -166.42350  66.568220   7.049480   62.138836   \n",
       "49997  -83.360230  10.408098 -209.89703  69.190636 -76.470140   60.357050   \n",
       "49998  -99.281110  23.797993 -153.91867  65.864320  40.747856  181.227510   \n",
       "49999  -91.298485  59.020690 -192.90567  70.540580  54.047190  157.891140   \n",
       "\n",
       "              69t        71t  target  \n",
       "0      116.982010 -18.195980       1  \n",
       "1      101.123980 -71.665270       1  \n",
       "2      131.261600 -33.020058       1  \n",
       "3      118.847440   3.276848       1  \n",
       "4       92.482574 -21.129560       1  \n",
       "...           ...        ...     ...  \n",
       "49995   71.998870 -58.449375       1  \n",
       "49996  132.433150 -73.210810       1  \n",
       "49997  118.961680 -38.207077       1  \n",
       "49998  133.742450 -92.536960       1  \n",
       "49999  110.862000 -36.869915       1  \n",
       "\n",
       "[50000 rows x 129 columns]"
      ]
     },
     "execution_count": 106,
     "metadata": {},
     "output_type": "execute_result"
    }
   ],
   "source": [
    "features_class\n",
    "# осматриваем результат"
   ]
  },
  {
   "cell_type": "code",
   "execution_count": 108,
   "id": "bf6451f9",
   "metadata": {
    "scrolled": true
   },
   "outputs": [],
   "source": [
    "neg_class = pd.concat([features_train[50000:].drop(columns_to_drop, axis=1).reset_index(drop=True),\n",
    "           base.drop('Id', axis=1).sample(n=50000, random_state=13).drop(columns_to_drop, axis=1).reset_index(drop=True)],\n",
    "          ignore_index=True, axis=1)\n",
    "\n",
    "# получаем негативный класс:\n",
    "# cоединяем вторую половину features_train с 50000 случайными записями из базы."
   ]
  },
  {
   "cell_type": "code",
   "execution_count": 109,
   "id": "b5115b12",
   "metadata": {},
   "outputs": [],
   "source": [
    "neg_class['target'] = 0\n",
    "neg_class.columns = features_class.columns\n",
    "# присваиваем отрицательный класс\n",
    "# присваиваем столбцам наименования, аналогичные первой половине выборки"
   ]
  },
  {
   "cell_type": "code",
   "execution_count": 110,
   "id": "557a5535",
   "metadata": {
    "scrolled": true
   },
   "outputs": [
    {
     "data": {
      "text/plain": [
       "(50000, 129)"
      ]
     },
     "execution_count": 110,
     "metadata": {},
     "output_type": "execute_result"
    }
   ],
   "source": [
    "neg_class.shape\n",
    "# проверяем размер"
   ]
  },
  {
   "cell_type": "code",
   "execution_count": 111,
   "id": "d95bc385",
   "metadata": {},
   "outputs": [],
   "source": [
    "features_class = shuffle(pd.concat([features_class, neg_class]), random_state=13)\n",
    "# соединяем таблицы положительного и отрицательного классов, перемешиваем"
   ]
  },
  {
   "cell_type": "code",
   "execution_count": 112,
   "id": "4f78142b",
   "metadata": {
    "scrolled": false
   },
   "outputs": [
    {
     "data": {
      "text/plain": [
       "(100000, 129)"
      ]
     },
     "execution_count": 112,
     "metadata": {},
     "output_type": "execute_result"
    }
   ],
   "source": [
    "features_class.shape"
   ]
  },
  {
   "cell_type": "code",
   "execution_count": 113,
   "id": "91ce38b5",
   "metadata": {},
   "outputs": [],
   "source": [
    "target_class = features_class['target']\n",
    "# выделение целевого признака"
   ]
  },
  {
   "cell_type": "code",
   "execution_count": 114,
   "id": "717dc5e6",
   "metadata": {},
   "outputs": [],
   "source": [
    "features_class = features_class.drop('target', axis=1)\n",
    "# выделение обучающих признаков"
   ]
  },
  {
   "cell_type": "markdown",
   "id": "c9035e2d",
   "metadata": {},
   "source": [
    "### Обучим классификатор"
   ]
  },
  {
   "cell_type": "code",
   "execution_count": 44,
   "id": "87fa094e",
   "metadata": {},
   "outputs": [],
   "source": [
    "grid = {'max_depth':[5],\n",
    "       'n_estimators': [10, 30, 50, 70, 110, 160, 220, 300, 400, 500],\n",
    "        'num_leaves':[21, 31, 41],\n",
    "        'random_state':[13]}\n",
    "# задаем решетку параметров"
   ]
  },
  {
   "cell_type": "code",
   "execution_count": 126,
   "id": "dd0facc8",
   "metadata": {},
   "outputs": [],
   "source": [
    "clf = GridSearchCV(estimator=LGBMClassifier(),\n",
    "                  param_grid=grid,\n",
    "                    scoring='recall',\n",
    "                  cv=3,\n",
    "                  verbose=3,\n",
    "                  n_jobs=-1)\n",
    "# классификатор с поиском параметров и кросс-валидацией.\n",
    "# scoring соответствует тому, что используется заказчиком исследования."
   ]
  },
  {
   "cell_type": "code",
   "execution_count": 127,
   "id": "298bce12",
   "metadata": {
    "scrolled": true
   },
   "outputs": [
    {
     "name": "stdout",
     "output_type": "stream",
     "text": [
      "Fitting 3 folds for each of 180 candidates, totalling 540 fits\n",
      "Wall time: 53min 32s\n"
     ]
    },
    {
     "data": {
      "text/plain": [
       "GridSearchCV(cv=3, estimator=LGBMClassifier(), n_jobs=-1,\n",
       "             param_grid={'max_depth': [2, 5, 7, 10, 15, 20],\n",
       "                         'n_estimators': [10, 30, 50, 70, 110, 160, 220, 300,\n",
       "                                          400, 500],\n",
       "                         'num_leaves': [21, 31, 41], 'random_state': [13]},\n",
       "             scoring='recall', verbose=3)"
      ]
     },
     "execution_count": 127,
     "metadata": {},
     "output_type": "execute_result"
    }
   ],
   "source": [
    "%%time\n",
    "clf.fit(features_class, target_class)\n",
    "# обучаем модель"
   ]
  },
  {
   "cell_type": "code",
   "execution_count": 128,
   "id": "511c25cf",
   "metadata": {},
   "outputs": [
    {
     "data": {
      "text/plain": [
       "0.9274600227424229"
      ]
     },
     "execution_count": 128,
     "metadata": {},
     "output_type": "execute_result"
    }
   ],
   "source": [
    "clf.best_score_\n",
    "# лучшее значение метрики"
   ]
  },
  {
   "cell_type": "code",
   "execution_count": 129,
   "id": "38ea7392",
   "metadata": {
    "scrolled": true
   },
   "outputs": [
    {
     "data": {
      "text/plain": [
       "{'max_depth': 5, 'n_estimators': 500, 'num_leaves': 21, 'random_state': 13}"
      ]
     },
     "execution_count": 129,
     "metadata": {},
     "output_type": "execute_result"
    }
   ],
   "source": [
    "clf.best_params_\n",
    "# гиперпараметры при лучшем значении метрики. "
   ]
  },
  {
   "cell_type": "markdown",
   "id": "72dee0fb",
   "metadata": {},
   "source": [
    "Классификатор показал лучший результат полноты 0.93 при гиперпараметрах: макс. глубина 5, количество эстиматоров 500, количество листьев 21.\n",
    "\n",
    "### Ищем 20 ближайших соседей"
   ]
  },
  {
   "cell_type": "code",
   "execution_count": 453,
   "id": "f2e1a991",
   "metadata": {},
   "outputs": [
    {
     "name": "stdout",
     "output_type": "stream",
     "text": [
      "Wall time: 18min 47s\n"
     ]
    }
   ],
   "source": [
    "%%time\n",
    "D, I = index.search(predictions_cropped, 20)"
   ]
  },
  {
   "cell_type": "code",
   "execution_count": 454,
   "id": "0b8a48b3",
   "metadata": {},
   "outputs": [],
   "source": [
    "pd.DataFrame(I).to_csv('20_neighbours.csv')\n",
    "# сохраняем результат чтоб при повторном запуске кода не пришлось ждать"
   ]
  },
  {
   "cell_type": "markdown",
   "id": "d0763ddc",
   "metadata": {},
   "source": [
    "### Ранжируем соседей с помощью классификатора"
   ]
  },
  {
   "cell_type": "code",
   "execution_count": 455,
   "id": "949f0da5",
   "metadata": {},
   "outputs": [],
   "source": [
    "neighbors = pd.DataFrame(I)\n",
    "# для упрощения работы с данными сохраним полученный массив в dataframe"
   ]
  },
  {
   "cell_type": "code",
   "execution_count": 456,
   "id": "849b0e0e",
   "metadata": {
    "scrolled": true
   },
   "outputs": [
    {
     "data": {
      "text/plain": [
       "(100000, 20)"
      ]
     },
     "execution_count": 456,
     "metadata": {},
     "output_type": "execute_result"
    }
   ],
   "source": [
    "neighbors.shape"
   ]
  },
  {
   "cell_type": "code",
   "execution_count": 45,
   "id": "194c9719",
   "metadata": {},
   "outputs": [],
   "source": [
    "features_test = features_test.drop(columns_to_drop,axis=1)\n",
    "# features_test для этого алгоритма не должен содержать столбцов, которых нет в базе"
   ]
  },
  {
   "cell_type": "code",
   "execution_count": 442,
   "id": "cae8f980",
   "metadata": {
    "scrolled": true
   },
   "outputs": [
    {
     "name": "stdout",
     "output_type": "stream",
     "text": [
      "Wall time: 1h 5min 32s\n"
     ]
    }
   ],
   "source": [
    "%%time\n",
    "answer_proba = np.empty(0)  # пустой массив\n",
    "for i in neighbors.index: # для каждой записи в neighbors выполняется следующее:\n",
    "    probs = pd.DataFrame(data=np.array(neighbors.loc[i,:]), columns=['index_in_base'])\n",
    "    # cоздаем таблицу, где в одном столбце будет индекс строки в базе,\n",
    "    # в другом столбце классификатором будет рассчитана вероятность положительного класса для этой записи\n",
    "    for j in probs.index:\n",
    "        probs.loc[j, 'probability'] = clf.predict_proba(np.append(features_test.loc[i,:].values,\n",
    "                                                              base_vectors[int(probs.loc[j,'index_in_base'])]).reshape(1, -1))[0][1]\n",
    "    probs = probs.sort_values(by='probability', ascending=False).head(10)\n",
    "    # выше выполнено следующее: соединена пара вектора из тестовой выборки и соответствующего вектора из базы. для нее\n",
    "    # подсчитана вероятность положительного класса, то есть совпадения.\n",
    "    # затем записи ранжированы по вероятности положительного класса, оставлен топ-10.\n",
    "    answer_proba = np.append(answer_proba,(\" \".join(base.loc[probs['index_in_base'],'Id'])))\n",
    "    # далее по индексам в базе выгружены Id и связаны в строку, как в основном решении.\n",
    "    # полученная строка добавлена к массиву.\n",
    "    "
   ]
  },
  {
   "cell_type": "code",
   "execution_count": 46,
   "id": "60005d76",
   "metadata": {},
   "outputs": [],
   "source": [
    "answer_class = np.empty(0)\n",
    "for i in neighbors.index:\n",
    "    probs = pd.DataFrame(data=np.array(neighbors.loc[i,:]), columns=['index_in_base'])\n",
    "    for j in probs.index:\n",
    "        probs.loc[j, 'probability'] = clf.predict(np.append(features_test.loc[i,:].values,\n",
    "                                                              base_vectors[int(probs.loc[j,'index_in_base'])]).reshape(1, -1))\n",
    "    probs = probs.sort_values(by='probability', ascending=False).head(10)\n",
    "    answer_class = np.append(answer_class,(\" \".join(base.loc[probs['index_in_base'],'Id'])))\n",
    "\n",
    "    # здесь повторяется предыдущий алгоритм с одним отличием:\n",
    "    # вместо ранжирования по вероятности происходит ранжирование по классу:\n",
    "    # таким образом \"отодвинуты\" будут только записи с отрицательным классом,\n",
    "    # прочие же останутся на своих местах."
   ]
  },
  {
   "cell_type": "code",
   "execution_count": 445,
   "id": "fac2c703",
   "metadata": {
    "scrolled": true
   },
   "outputs": [],
   "source": [
    "result_prob = pd.DataFrame(index=test['Id'], data=answer_proba) \n",
    "# получаем ответ из массива с ранжированием по вероятности положительного класса"
   ]
  },
  {
   "cell_type": "code",
   "execution_count": 446,
   "id": "7ec4f3d7",
   "metadata": {
    "scrolled": true
   },
   "outputs": [],
   "source": [
    "result_class = pd.DataFrame(index=test['Id'], data=answer_class)\n",
    "# получаем ответ из массива с ранжированием по классу"
   ]
  },
  {
   "cell_type": "code",
   "execution_count": 447,
   "id": "43714566",
   "metadata": {},
   "outputs": [],
   "source": [
    "result_prob = result_prob.reset_index()\n",
    "result_class = result_class.reset_index()"
   ]
  },
  {
   "cell_type": "code",
   "execution_count": 448,
   "id": "fd5a0477",
   "metadata": {},
   "outputs": [],
   "source": [
    "result_prob.columns = ['Id', 'Predicted']\n",
    "result_class.columns = ['Id', 'Predicted']"
   ]
  },
  {
   "cell_type": "markdown",
   "id": "730e584b",
   "metadata": {},
   "source": [
    "### Экспортируем результат в CSV"
   ]
  },
  {
   "cell_type": "code",
   "execution_count": 449,
   "id": "43258d7c",
   "metadata": {},
   "outputs": [],
   "source": [
    "result_prob.to_csv('result_fin_prob.csv', index=False)\n",
    "result_class.to_csv('result_fin_class_20.csv', index=False)"
   ]
  },
  {
   "cell_type": "code",
   "execution_count": 451,
   "id": "3d9698d8",
   "metadata": {
    "scrolled": true
   },
   "outputs": [
    {
     "data": {
      "text/html": [
       "<div>\n",
       "<style scoped>\n",
       "    .dataframe tbody tr th:only-of-type {\n",
       "        vertical-align: middle;\n",
       "    }\n",
       "\n",
       "    .dataframe tbody tr th {\n",
       "        vertical-align: top;\n",
       "    }\n",
       "\n",
       "    .dataframe thead th {\n",
       "        text-align: right;\n",
       "    }\n",
       "</style>\n",
       "<table border=\"1\" class=\"dataframe\">\n",
       "  <thead>\n",
       "    <tr style=\"text-align: right;\">\n",
       "      <th></th>\n",
       "      <th>Id</th>\n",
       "      <th>Predicted</th>\n",
       "    </tr>\n",
       "  </thead>\n",
       "  <tbody>\n",
       "    <tr>\n",
       "      <th>0</th>\n",
       "      <td>100000-query</td>\n",
       "      <td>1542803-base 368296-base 3209652-base 3839597-...</td>\n",
       "    </tr>\n",
       "    <tr>\n",
       "      <th>1</th>\n",
       "      <td>100001-query</td>\n",
       "      <td>2666508-base 508295-base 11853-base 163485-bas...</td>\n",
       "    </tr>\n",
       "    <tr>\n",
       "      <th>2</th>\n",
       "      <td>100002-query</td>\n",
       "      <td>472256-base 496010-base 25113-base 153272-base...</td>\n",
       "    </tr>\n",
       "    <tr>\n",
       "      <th>3</th>\n",
       "      <td>100003-query</td>\n",
       "      <td>3168654-base 1831175-base 2345993-base 1274091...</td>\n",
       "    </tr>\n",
       "    <tr>\n",
       "      <th>4</th>\n",
       "      <td>100004-query</td>\n",
       "      <td>1217188-base 75484-base 2863148-base 211178-ba...</td>\n",
       "    </tr>\n",
       "    <tr>\n",
       "      <th>...</th>\n",
       "      <td>...</td>\n",
       "      <td>...</td>\n",
       "    </tr>\n",
       "    <tr>\n",
       "      <th>99995</th>\n",
       "      <td>199995-query</td>\n",
       "      <td>2681222-base 1533158-base 2757076-base 880713-...</td>\n",
       "    </tr>\n",
       "    <tr>\n",
       "      <th>99996</th>\n",
       "      <td>199996-query</td>\n",
       "      <td>2653840-base 124195-base 272706-base 220273-ba...</td>\n",
       "    </tr>\n",
       "    <tr>\n",
       "      <th>99997</th>\n",
       "      <td>199997-query</td>\n",
       "      <td>1801591-base 646953-base 2931054-base 2544583-...</td>\n",
       "    </tr>\n",
       "    <tr>\n",
       "      <th>99998</th>\n",
       "      <td>199998-query</td>\n",
       "      <td>341779-base 4523822-base 3024721-base 4499729-...</td>\n",
       "    </tr>\n",
       "    <tr>\n",
       "      <th>99999</th>\n",
       "      <td>199999-query</td>\n",
       "      <td>681001-base 4465577-base 3405693-base 2515873-...</td>\n",
       "    </tr>\n",
       "  </tbody>\n",
       "</table>\n",
       "<p>100000 rows × 2 columns</p>\n",
       "</div>"
      ],
      "text/plain": [
       "                 Id                                          Predicted\n",
       "0      100000-query  1542803-base 368296-base 3209652-base 3839597-...\n",
       "1      100001-query  2666508-base 508295-base 11853-base 163485-bas...\n",
       "2      100002-query  472256-base 496010-base 25113-base 153272-base...\n",
       "3      100003-query  3168654-base 1831175-base 2345993-base 1274091...\n",
       "4      100004-query  1217188-base 75484-base 2863148-base 211178-ba...\n",
       "...             ...                                                ...\n",
       "99995  199995-query  2681222-base 1533158-base 2757076-base 880713-...\n",
       "99996  199996-query  2653840-base 124195-base 272706-base 220273-ba...\n",
       "99997  199997-query  1801591-base 646953-base 2931054-base 2544583-...\n",
       "99998  199998-query  341779-base 4523822-base 3024721-base 4499729-...\n",
       "99999  199999-query  681001-base 4465577-base 3405693-base 2515873-...\n",
       "\n",
       "[100000 rows x 2 columns]"
      ]
     },
     "execution_count": 451,
     "metadata": {},
     "output_type": "execute_result"
    }
   ],
   "source": [
    "result_prob"
   ]
  },
  {
   "cell_type": "code",
   "execution_count": 452,
   "id": "fe7074d2",
   "metadata": {
    "scrolled": true
   },
   "outputs": [
    {
     "data": {
      "text/html": [
       "<div>\n",
       "<style scoped>\n",
       "    .dataframe tbody tr th:only-of-type {\n",
       "        vertical-align: middle;\n",
       "    }\n",
       "\n",
       "    .dataframe tbody tr th {\n",
       "        vertical-align: top;\n",
       "    }\n",
       "\n",
       "    .dataframe thead th {\n",
       "        text-align: right;\n",
       "    }\n",
       "</style>\n",
       "<table border=\"1\" class=\"dataframe\">\n",
       "  <thead>\n",
       "    <tr style=\"text-align: right;\">\n",
       "      <th></th>\n",
       "      <th>Id</th>\n",
       "      <th>Predicted</th>\n",
       "    </tr>\n",
       "  </thead>\n",
       "  <tbody>\n",
       "    <tr>\n",
       "      <th>0</th>\n",
       "      <td>100000-query</td>\n",
       "      <td>2341758-base 399677-base 2760762-base 368296-b...</td>\n",
       "    </tr>\n",
       "    <tr>\n",
       "      <th>1</th>\n",
       "      <td>100001-query</td>\n",
       "      <td>2666508-base 163485-base 11853-base 508295-bas...</td>\n",
       "    </tr>\n",
       "    <tr>\n",
       "      <th>2</th>\n",
       "      <td>100002-query</td>\n",
       "      <td>472256-base 496010-base 153272-base 25113-base...</td>\n",
       "    </tr>\n",
       "    <tr>\n",
       "      <th>3</th>\n",
       "      <td>100003-query</td>\n",
       "      <td>3168654-base 2177262-base 1831175-base 4473809...</td>\n",
       "    </tr>\n",
       "    <tr>\n",
       "      <th>4</th>\n",
       "      <td>100004-query</td>\n",
       "      <td>1217188-base 75484-base 2411488-base 2980294-b...</td>\n",
       "    </tr>\n",
       "    <tr>\n",
       "      <th>...</th>\n",
       "      <td>...</td>\n",
       "      <td>...</td>\n",
       "    </tr>\n",
       "    <tr>\n",
       "      <th>99995</th>\n",
       "      <td>199995-query</td>\n",
       "      <td>1533158-base 880713-base 2681222-base 1243195-...</td>\n",
       "    </tr>\n",
       "    <tr>\n",
       "      <th>99996</th>\n",
       "      <td>199996-query</td>\n",
       "      <td>925466-base 936053-base 272706-base 525997-bas...</td>\n",
       "    </tr>\n",
       "    <tr>\n",
       "      <th>99997</th>\n",
       "      <td>199997-query</td>\n",
       "      <td>1801591-base 1517783-base 646953-base 2544583-...</td>\n",
       "    </tr>\n",
       "    <tr>\n",
       "      <th>99998</th>\n",
       "      <td>199998-query</td>\n",
       "      <td>341779-base 305868-base 4523822-base 1514452-b...</td>\n",
       "    </tr>\n",
       "    <tr>\n",
       "      <th>99999</th>\n",
       "      <td>199999-query</td>\n",
       "      <td>4678196-base 1011592-base 2503531-base 2818124...</td>\n",
       "    </tr>\n",
       "  </tbody>\n",
       "</table>\n",
       "<p>100000 rows × 2 columns</p>\n",
       "</div>"
      ],
      "text/plain": [
       "                 Id                                          Predicted\n",
       "0      100000-query  2341758-base 399677-base 2760762-base 368296-b...\n",
       "1      100001-query  2666508-base 163485-base 11853-base 508295-bas...\n",
       "2      100002-query  472256-base 496010-base 153272-base 25113-base...\n",
       "3      100003-query  3168654-base 2177262-base 1831175-base 4473809...\n",
       "4      100004-query  1217188-base 75484-base 2411488-base 2980294-b...\n",
       "...             ...                                                ...\n",
       "99995  199995-query  1533158-base 880713-base 2681222-base 1243195-...\n",
       "99996  199996-query  925466-base 936053-base 272706-base 525997-bas...\n",
       "99997  199997-query  1801591-base 1517783-base 646953-base 2544583-...\n",
       "99998  199998-query  341779-base 305868-base 4523822-base 1514452-b...\n",
       "99999  199999-query  4678196-base 1011592-base 2503531-base 2818124...\n",
       "\n",
       "[100000 rows x 2 columns]"
      ]
     },
     "execution_count": 452,
     "metadata": {},
     "output_type": "execute_result"
    }
   ],
   "source": [
    "result_class"
   ]
  },
  {
   "cell_type": "markdown",
   "id": "473824b4",
   "metadata": {},
   "source": [
    "#### Результат использования усовершенствованного алгоритма\n",
    "\n",
    "- При ранжировании по вероятности положительного класса полнота снизилась на 2%\n",
    "- При ранжировании по классу полнота увеличилась на десятые доли процента, осталась приблизительно равной 73%.\n",
    "\n",
    "Вывод: алгоритм с моделью третьего уровня в настоящее время не рекомендован к использованию."
   ]
  },
  {
   "cell_type": "markdown",
   "id": "72540ac2",
   "metadata": {},
   "source": [
    "## Вывод\n",
    "\n",
    "### Цель работы: \n",
    "Предложить метод улучшения мэтчинга в онлайн-магазине.\n",
    "\n",
    "Для каждого вектора в запросе найти 10 ближайших соответствий из базы.\n",
    "\n",
    "Используемая метрика - recall.\n",
    "\n",
    "### Материалы и методы:\n",
    "\n",
    "Работа выполнена средствами Python, библиотек Pandas, NumPy, Faiss.\n",
    "Задачи машинного обучения решались с помощью библиотек Sklearn, LightGBM.\n",
    "\n",
    "### Ход выполнения проекта:\n",
    "\n",
    "- Загружены и подготовлены данные.\n",
    "- Предложен и выполнен двухуровневый алгоритм: предсказание векторов-соответствий товаров средствами, затем поиск 10 ближайших соответствий из базы к каждому предсказанию.\n",
    "- С целью совершенствования алгоритма добавлена модель третьего уровня: классификатор, ранжирующий результаты по уровню соответствия.\n",
    "\n",
    "### Результат работы:\n",
    "\n",
    "- Двухуровневый алгоритм показал полноту 0.73 на тестовой выборке.\n",
    "- С помощью модели третьего уровня достичь улучшения результата не удалось.\n",
    "\n"
   ]
  }
 ],
 "metadata": {
  "kernelspec": {
   "display_name": "Python 3 (ipykernel)",
   "language": "python",
   "name": "python3"
  },
  "language_info": {
   "codemirror_mode": {
    "name": "ipython",
    "version": 3
   },
   "file_extension": ".py",
   "mimetype": "text/x-python",
   "name": "python",
   "nbconvert_exporter": "python",
   "pygments_lexer": "ipython3",
   "version": "3.9.13"
  }
 },
 "nbformat": 4,
 "nbformat_minor": 5
}
